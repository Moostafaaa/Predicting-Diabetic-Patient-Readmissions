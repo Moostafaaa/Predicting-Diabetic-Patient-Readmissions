{
  "cells": [
    {
      "cell_type": "markdown",
      "metadata": {
        "id": "view-in-github",
        "colab_type": "text"
      },
      "source": [
        "<a href=\"https://colab.research.google.com/github/Moostafaaa/Predicting-Diabetic-Patient-Readmissions/blob/main/proj_Predicting_Diabetic_Patient_Readmissions.ipynb\" target=\"_parent\"><img src=\"https://colab.research.google.com/assets/colab-badge.svg\" alt=\"Open In Colab\"/></a>"
      ]
    },
    {
      "cell_type": "markdown",
      "source": [
        "# Business Case"
      ],
      "metadata": {
        "id": "OlUFlq4YORoA"
      }
    },
    {
      "cell_type": "markdown",
      "source": [
        "**Predicting Diabetic Patient Readmissions**\n",
        "\n",
        "High hospital readmission rates drive significant healthcare costs, and diabetic patients face an elevated risk. This project aims to predict the likelihood of readmission for diabetic patients using machine learning. Success will enable targeted interventions to reduce unnecessary readmissions, leading to substantial cost savings and improved patient outcomes. By identifying high-risk individuals, we can optimize care, enhance efficiency, and ultimately improve the well-being of diabetic patients while alleviating the financial burden on healthcare systems. This initiative will develop and validate a predictive model to inform proactive strategies for this vulnerable population."
      ],
      "metadata": {
        "id": "-cem1E3LOVNN"
      }
    },
    {
      "cell_type": "markdown",
      "source": [
        "# Importing Packages and Dataset"
      ],
      "metadata": {
        "id": "MtpFBWXmOYNd"
      }
    },
    {
      "cell_type": "code",
      "source": [
        "import pandas as pd\n",
        "import numpy as np\n",
        "import seaborn as sns\n",
        "import matplotlib.pyplot as plt\n",
        "! pip install category-encoders\n",
        "from category_encoders import BinaryEncoder\n",
        "from sklearn.preprocessing import RobustScaler\n",
        "from sklearn.pipeline import Pipeline\n",
        "from sklearn.compose import ColumnTransformer\n",
        "from sklearn.linear_model import LogisticRegression\n",
        "from sklearn.ensemble import RandomForestClassifier, GradientBoostingClassifier\n",
        "from sklearn.neighbors import KNeighborsClassifier\n",
        "from sklearn.metrics import accuracy_score, classification_report\n",
        "from sklearn.model_selection import GridSearchCV, train_test_split\n",
        "import joblib\n",
        "from sklearn.model_selection import RandomizedSearchCV\n",
        "from scipy.stats import randint, uniform\n",
        "from sklearn.experimental import enable_halving_search_cv  # noqa\n",
        "from sklearn.model_selection import HalvingRandomSearchCV"
      ],
      "metadata": {
        "colab": {
          "base_uri": "https://localhost:8080/"
        },
        "id": "TIeZPCJbOHh8",
        "outputId": "75cbc9ef-daec-4a21-c9a2-be21c2bedfd1"
      },
      "execution_count": null,
      "outputs": [
        {
          "output_type": "stream",
          "name": "stdout",
          "text": [
            "Collecting category-encoders\n",
            "  Downloading category_encoders-2.8.1-py3-none-any.whl.metadata (7.9 kB)\n",
            "Requirement already satisfied: numpy>=1.14.0 in /usr/local/lib/python3.11/dist-packages (from category-encoders) (2.0.2)\n",
            "Requirement already satisfied: pandas>=1.0.5 in /usr/local/lib/python3.11/dist-packages (from category-encoders) (2.2.2)\n",
            "Requirement already satisfied: patsy>=0.5.1 in /usr/local/lib/python3.11/dist-packages (from category-encoders) (1.0.1)\n",
            "Requirement already satisfied: scikit-learn>=1.6.0 in /usr/local/lib/python3.11/dist-packages (from category-encoders) (1.6.1)\n",
            "Requirement already satisfied: scipy>=1.0.0 in /usr/local/lib/python3.11/dist-packages (from category-encoders) (1.15.2)\n",
            "Requirement already satisfied: statsmodels>=0.9.0 in /usr/local/lib/python3.11/dist-packages (from category-encoders) (0.14.4)\n",
            "Requirement already satisfied: python-dateutil>=2.8.2 in /usr/local/lib/python3.11/dist-packages (from pandas>=1.0.5->category-encoders) (2.9.0.post0)\n",
            "Requirement already satisfied: pytz>=2020.1 in /usr/local/lib/python3.11/dist-packages (from pandas>=1.0.5->category-encoders) (2025.2)\n",
            "Requirement already satisfied: tzdata>=2022.7 in /usr/local/lib/python3.11/dist-packages (from pandas>=1.0.5->category-encoders) (2025.2)\n",
            "Requirement already satisfied: joblib>=1.2.0 in /usr/local/lib/python3.11/dist-packages (from scikit-learn>=1.6.0->category-encoders) (1.4.2)\n",
            "Requirement already satisfied: threadpoolctl>=3.1.0 in /usr/local/lib/python3.11/dist-packages (from scikit-learn>=1.6.0->category-encoders) (3.6.0)\n",
            "Requirement already satisfied: packaging>=21.3 in /usr/local/lib/python3.11/dist-packages (from statsmodels>=0.9.0->category-encoders) (24.2)\n",
            "Requirement already satisfied: six>=1.5 in /usr/local/lib/python3.11/dist-packages (from python-dateutil>=2.8.2->pandas>=1.0.5->category-encoders) (1.17.0)\n",
            "Downloading category_encoders-2.8.1-py3-none-any.whl (85 kB)\n",
            "\u001b[2K   \u001b[90m━━━━━━━━━━━━━━━━━━━━━━━━━━━━━━━━━━━━━━━━\u001b[0m \u001b[32m85.7/85.7 kB\u001b[0m \u001b[31m8.0 MB/s\u001b[0m eta \u001b[36m0:00:00\u001b[0m\n",
            "\u001b[?25hInstalling collected packages: category-encoders\n",
            "Successfully installed category-encoders-2.8.1\n"
          ]
        }
      ]
    },
    {
      "cell_type": "code",
      "source": [
        "df = pd.read_csv('/content/diabetic_data.csv')"
      ],
      "metadata": {
        "id": "xBl2iuhFOHdz"
      },
      "execution_count": null,
      "outputs": []
    },
    {
      "cell_type": "code",
      "source": [
        "df.head(10)"
      ],
      "metadata": {
        "colab": {
          "base_uri": "https://localhost:8080/",
          "height": 603
        },
        "id": "76uSecY6OHZr",
        "outputId": "ff837674-9e31-451c-b669-b5a45175f7a1"
      },
      "execution_count": null,
      "outputs": [
        {
          "output_type": "execute_result",
          "data": {
            "text/plain": [
              "   encounter_id  patient_nbr             race  gender       age weight  \\\n",
              "0       2278392      8222157        Caucasian  Female    [0-10)      ?   \n",
              "1        149190     55629189        Caucasian  Female   [10-20)      ?   \n",
              "2         64410     86047875  AfricanAmerican  Female   [20-30)      ?   \n",
              "3        500364     82442376        Caucasian    Male   [30-40)      ?   \n",
              "4         16680     42519267        Caucasian    Male   [40-50)      ?   \n",
              "5         35754     82637451        Caucasian    Male   [50-60)      ?   \n",
              "6         55842     84259809        Caucasian    Male   [60-70)      ?   \n",
              "7         63768    114882984        Caucasian    Male   [70-80)      ?   \n",
              "8         12522     48330783        Caucasian  Female   [80-90)      ?   \n",
              "9         15738     63555939        Caucasian  Female  [90-100)      ?   \n",
              "\n",
              "   admission_type_id  discharge_disposition_id  admission_source_id  \\\n",
              "0                  6                        25                    1   \n",
              "1                  1                         1                    7   \n",
              "2                  1                         1                    7   \n",
              "3                  1                         1                    7   \n",
              "4                  1                         1                    7   \n",
              "5                  2                         1                    2   \n",
              "6                  3                         1                    2   \n",
              "7                  1                         1                    7   \n",
              "8                  2                         1                    4   \n",
              "9                  3                         3                    4   \n",
              "\n",
              "   time_in_hospital  ... citoglipton insulin  glyburide-metformin  \\\n",
              "0                 1  ...          No      No                   No   \n",
              "1                 3  ...          No      Up                   No   \n",
              "2                 2  ...          No      No                   No   \n",
              "3                 2  ...          No      Up                   No   \n",
              "4                 1  ...          No  Steady                   No   \n",
              "5                 3  ...          No  Steady                   No   \n",
              "6                 4  ...          No  Steady                   No   \n",
              "7                 5  ...          No      No                   No   \n",
              "8                13  ...          No  Steady                   No   \n",
              "9                12  ...          No  Steady                   No   \n",
              "\n",
              "   glipizide-metformin  glimepiride-pioglitazone  metformin-rosiglitazone  \\\n",
              "0                   No                        No                       No   \n",
              "1                   No                        No                       No   \n",
              "2                   No                        No                       No   \n",
              "3                   No                        No                       No   \n",
              "4                   No                        No                       No   \n",
              "5                   No                        No                       No   \n",
              "6                   No                        No                       No   \n",
              "7                   No                        No                       No   \n",
              "8                   No                        No                       No   \n",
              "9                   No                        No                       No   \n",
              "\n",
              "   metformin-pioglitazone  change diabetesMed readmitted  \n",
              "0                      No      No          No         NO  \n",
              "1                      No      Ch         Yes        >30  \n",
              "2                      No      No         Yes         NO  \n",
              "3                      No      Ch         Yes         NO  \n",
              "4                      No      Ch         Yes         NO  \n",
              "5                      No      No         Yes        >30  \n",
              "6                      No      Ch         Yes         NO  \n",
              "7                      No      No         Yes        >30  \n",
              "8                      No      Ch         Yes         NO  \n",
              "9                      No      Ch         Yes         NO  \n",
              "\n",
              "[10 rows x 50 columns]"
            ],
            "text/html": [
              "\n",
              "  <div id=\"df-36ef0f6d-9a51-412c-9129-fb9066246a31\" class=\"colab-df-container\">\n",
              "    <div>\n",
              "<style scoped>\n",
              "    .dataframe tbody tr th:only-of-type {\n",
              "        vertical-align: middle;\n",
              "    }\n",
              "\n",
              "    .dataframe tbody tr th {\n",
              "        vertical-align: top;\n",
              "    }\n",
              "\n",
              "    .dataframe thead th {\n",
              "        text-align: right;\n",
              "    }\n",
              "</style>\n",
              "<table border=\"1\" class=\"dataframe\">\n",
              "  <thead>\n",
              "    <tr style=\"text-align: right;\">\n",
              "      <th></th>\n",
              "      <th>encounter_id</th>\n",
              "      <th>patient_nbr</th>\n",
              "      <th>race</th>\n",
              "      <th>gender</th>\n",
              "      <th>age</th>\n",
              "      <th>weight</th>\n",
              "      <th>admission_type_id</th>\n",
              "      <th>discharge_disposition_id</th>\n",
              "      <th>admission_source_id</th>\n",
              "      <th>time_in_hospital</th>\n",
              "      <th>...</th>\n",
              "      <th>citoglipton</th>\n",
              "      <th>insulin</th>\n",
              "      <th>glyburide-metformin</th>\n",
              "      <th>glipizide-metformin</th>\n",
              "      <th>glimepiride-pioglitazone</th>\n",
              "      <th>metformin-rosiglitazone</th>\n",
              "      <th>metformin-pioglitazone</th>\n",
              "      <th>change</th>\n",
              "      <th>diabetesMed</th>\n",
              "      <th>readmitted</th>\n",
              "    </tr>\n",
              "  </thead>\n",
              "  <tbody>\n",
              "    <tr>\n",
              "      <th>0</th>\n",
              "      <td>2278392</td>\n",
              "      <td>8222157</td>\n",
              "      <td>Caucasian</td>\n",
              "      <td>Female</td>\n",
              "      <td>[0-10)</td>\n",
              "      <td>?</td>\n",
              "      <td>6</td>\n",
              "      <td>25</td>\n",
              "      <td>1</td>\n",
              "      <td>1</td>\n",
              "      <td>...</td>\n",
              "      <td>No</td>\n",
              "      <td>No</td>\n",
              "      <td>No</td>\n",
              "      <td>No</td>\n",
              "      <td>No</td>\n",
              "      <td>No</td>\n",
              "      <td>No</td>\n",
              "      <td>No</td>\n",
              "      <td>No</td>\n",
              "      <td>NO</td>\n",
              "    </tr>\n",
              "    <tr>\n",
              "      <th>1</th>\n",
              "      <td>149190</td>\n",
              "      <td>55629189</td>\n",
              "      <td>Caucasian</td>\n",
              "      <td>Female</td>\n",
              "      <td>[10-20)</td>\n",
              "      <td>?</td>\n",
              "      <td>1</td>\n",
              "      <td>1</td>\n",
              "      <td>7</td>\n",
              "      <td>3</td>\n",
              "      <td>...</td>\n",
              "      <td>No</td>\n",
              "      <td>Up</td>\n",
              "      <td>No</td>\n",
              "      <td>No</td>\n",
              "      <td>No</td>\n",
              "      <td>No</td>\n",
              "      <td>No</td>\n",
              "      <td>Ch</td>\n",
              "      <td>Yes</td>\n",
              "      <td>&gt;30</td>\n",
              "    </tr>\n",
              "    <tr>\n",
              "      <th>2</th>\n",
              "      <td>64410</td>\n",
              "      <td>86047875</td>\n",
              "      <td>AfricanAmerican</td>\n",
              "      <td>Female</td>\n",
              "      <td>[20-30)</td>\n",
              "      <td>?</td>\n",
              "      <td>1</td>\n",
              "      <td>1</td>\n",
              "      <td>7</td>\n",
              "      <td>2</td>\n",
              "      <td>...</td>\n",
              "      <td>No</td>\n",
              "      <td>No</td>\n",
              "      <td>No</td>\n",
              "      <td>No</td>\n",
              "      <td>No</td>\n",
              "      <td>No</td>\n",
              "      <td>No</td>\n",
              "      <td>No</td>\n",
              "      <td>Yes</td>\n",
              "      <td>NO</td>\n",
              "    </tr>\n",
              "    <tr>\n",
              "      <th>3</th>\n",
              "      <td>500364</td>\n",
              "      <td>82442376</td>\n",
              "      <td>Caucasian</td>\n",
              "      <td>Male</td>\n",
              "      <td>[30-40)</td>\n",
              "      <td>?</td>\n",
              "      <td>1</td>\n",
              "      <td>1</td>\n",
              "      <td>7</td>\n",
              "      <td>2</td>\n",
              "      <td>...</td>\n",
              "      <td>No</td>\n",
              "      <td>Up</td>\n",
              "      <td>No</td>\n",
              "      <td>No</td>\n",
              "      <td>No</td>\n",
              "      <td>No</td>\n",
              "      <td>No</td>\n",
              "      <td>Ch</td>\n",
              "      <td>Yes</td>\n",
              "      <td>NO</td>\n",
              "    </tr>\n",
              "    <tr>\n",
              "      <th>4</th>\n",
              "      <td>16680</td>\n",
              "      <td>42519267</td>\n",
              "      <td>Caucasian</td>\n",
              "      <td>Male</td>\n",
              "      <td>[40-50)</td>\n",
              "      <td>?</td>\n",
              "      <td>1</td>\n",
              "      <td>1</td>\n",
              "      <td>7</td>\n",
              "      <td>1</td>\n",
              "      <td>...</td>\n",
              "      <td>No</td>\n",
              "      <td>Steady</td>\n",
              "      <td>No</td>\n",
              "      <td>No</td>\n",
              "      <td>No</td>\n",
              "      <td>No</td>\n",
              "      <td>No</td>\n",
              "      <td>Ch</td>\n",
              "      <td>Yes</td>\n",
              "      <td>NO</td>\n",
              "    </tr>\n",
              "    <tr>\n",
              "      <th>5</th>\n",
              "      <td>35754</td>\n",
              "      <td>82637451</td>\n",
              "      <td>Caucasian</td>\n",
              "      <td>Male</td>\n",
              "      <td>[50-60)</td>\n",
              "      <td>?</td>\n",
              "      <td>2</td>\n",
              "      <td>1</td>\n",
              "      <td>2</td>\n",
              "      <td>3</td>\n",
              "      <td>...</td>\n",
              "      <td>No</td>\n",
              "      <td>Steady</td>\n",
              "      <td>No</td>\n",
              "      <td>No</td>\n",
              "      <td>No</td>\n",
              "      <td>No</td>\n",
              "      <td>No</td>\n",
              "      <td>No</td>\n",
              "      <td>Yes</td>\n",
              "      <td>&gt;30</td>\n",
              "    </tr>\n",
              "    <tr>\n",
              "      <th>6</th>\n",
              "      <td>55842</td>\n",
              "      <td>84259809</td>\n",
              "      <td>Caucasian</td>\n",
              "      <td>Male</td>\n",
              "      <td>[60-70)</td>\n",
              "      <td>?</td>\n",
              "      <td>3</td>\n",
              "      <td>1</td>\n",
              "      <td>2</td>\n",
              "      <td>4</td>\n",
              "      <td>...</td>\n",
              "      <td>No</td>\n",
              "      <td>Steady</td>\n",
              "      <td>No</td>\n",
              "      <td>No</td>\n",
              "      <td>No</td>\n",
              "      <td>No</td>\n",
              "      <td>No</td>\n",
              "      <td>Ch</td>\n",
              "      <td>Yes</td>\n",
              "      <td>NO</td>\n",
              "    </tr>\n",
              "    <tr>\n",
              "      <th>7</th>\n",
              "      <td>63768</td>\n",
              "      <td>114882984</td>\n",
              "      <td>Caucasian</td>\n",
              "      <td>Male</td>\n",
              "      <td>[70-80)</td>\n",
              "      <td>?</td>\n",
              "      <td>1</td>\n",
              "      <td>1</td>\n",
              "      <td>7</td>\n",
              "      <td>5</td>\n",
              "      <td>...</td>\n",
              "      <td>No</td>\n",
              "      <td>No</td>\n",
              "      <td>No</td>\n",
              "      <td>No</td>\n",
              "      <td>No</td>\n",
              "      <td>No</td>\n",
              "      <td>No</td>\n",
              "      <td>No</td>\n",
              "      <td>Yes</td>\n",
              "      <td>&gt;30</td>\n",
              "    </tr>\n",
              "    <tr>\n",
              "      <th>8</th>\n",
              "      <td>12522</td>\n",
              "      <td>48330783</td>\n",
              "      <td>Caucasian</td>\n",
              "      <td>Female</td>\n",
              "      <td>[80-90)</td>\n",
              "      <td>?</td>\n",
              "      <td>2</td>\n",
              "      <td>1</td>\n",
              "      <td>4</td>\n",
              "      <td>13</td>\n",
              "      <td>...</td>\n",
              "      <td>No</td>\n",
              "      <td>Steady</td>\n",
              "      <td>No</td>\n",
              "      <td>No</td>\n",
              "      <td>No</td>\n",
              "      <td>No</td>\n",
              "      <td>No</td>\n",
              "      <td>Ch</td>\n",
              "      <td>Yes</td>\n",
              "      <td>NO</td>\n",
              "    </tr>\n",
              "    <tr>\n",
              "      <th>9</th>\n",
              "      <td>15738</td>\n",
              "      <td>63555939</td>\n",
              "      <td>Caucasian</td>\n",
              "      <td>Female</td>\n",
              "      <td>[90-100)</td>\n",
              "      <td>?</td>\n",
              "      <td>3</td>\n",
              "      <td>3</td>\n",
              "      <td>4</td>\n",
              "      <td>12</td>\n",
              "      <td>...</td>\n",
              "      <td>No</td>\n",
              "      <td>Steady</td>\n",
              "      <td>No</td>\n",
              "      <td>No</td>\n",
              "      <td>No</td>\n",
              "      <td>No</td>\n",
              "      <td>No</td>\n",
              "      <td>Ch</td>\n",
              "      <td>Yes</td>\n",
              "      <td>NO</td>\n",
              "    </tr>\n",
              "  </tbody>\n",
              "</table>\n",
              "<p>10 rows × 50 columns</p>\n",
              "</div>\n",
              "    <div class=\"colab-df-buttons\">\n",
              "\n",
              "  <div class=\"colab-df-container\">\n",
              "    <button class=\"colab-df-convert\" onclick=\"convertToInteractive('df-36ef0f6d-9a51-412c-9129-fb9066246a31')\"\n",
              "            title=\"Convert this dataframe to an interactive table.\"\n",
              "            style=\"display:none;\">\n",
              "\n",
              "  <svg xmlns=\"http://www.w3.org/2000/svg\" height=\"24px\" viewBox=\"0 -960 960 960\">\n",
              "    <path d=\"M120-120v-720h720v720H120Zm60-500h600v-160H180v160Zm220 220h160v-160H400v160Zm0 220h160v-160H400v160ZM180-400h160v-160H180v160Zm440 0h160v-160H620v160ZM180-180h160v-160H180v160Zm440 0h160v-160H620v160Z\"/>\n",
              "  </svg>\n",
              "    </button>\n",
              "\n",
              "  <style>\n",
              "    .colab-df-container {\n",
              "      display:flex;\n",
              "      gap: 12px;\n",
              "    }\n",
              "\n",
              "    .colab-df-convert {\n",
              "      background-color: #E8F0FE;\n",
              "      border: none;\n",
              "      border-radius: 50%;\n",
              "      cursor: pointer;\n",
              "      display: none;\n",
              "      fill: #1967D2;\n",
              "      height: 32px;\n",
              "      padding: 0 0 0 0;\n",
              "      width: 32px;\n",
              "    }\n",
              "\n",
              "    .colab-df-convert:hover {\n",
              "      background-color: #E2EBFA;\n",
              "      box-shadow: 0px 1px 2px rgba(60, 64, 67, 0.3), 0px 1px 3px 1px rgba(60, 64, 67, 0.15);\n",
              "      fill: #174EA6;\n",
              "    }\n",
              "\n",
              "    .colab-df-buttons div {\n",
              "      margin-bottom: 4px;\n",
              "    }\n",
              "\n",
              "    [theme=dark] .colab-df-convert {\n",
              "      background-color: #3B4455;\n",
              "      fill: #D2E3FC;\n",
              "    }\n",
              "\n",
              "    [theme=dark] .colab-df-convert:hover {\n",
              "      background-color: #434B5C;\n",
              "      box-shadow: 0px 1px 3px 1px rgba(0, 0, 0, 0.15);\n",
              "      filter: drop-shadow(0px 1px 2px rgba(0, 0, 0, 0.3));\n",
              "      fill: #FFFFFF;\n",
              "    }\n",
              "  </style>\n",
              "\n",
              "    <script>\n",
              "      const buttonEl =\n",
              "        document.querySelector('#df-36ef0f6d-9a51-412c-9129-fb9066246a31 button.colab-df-convert');\n",
              "      buttonEl.style.display =\n",
              "        google.colab.kernel.accessAllowed ? 'block' : 'none';\n",
              "\n",
              "      async function convertToInteractive(key) {\n",
              "        const element = document.querySelector('#df-36ef0f6d-9a51-412c-9129-fb9066246a31');\n",
              "        const dataTable =\n",
              "          await google.colab.kernel.invokeFunction('convertToInteractive',\n",
              "                                                    [key], {});\n",
              "        if (!dataTable) return;\n",
              "\n",
              "        const docLinkHtml = 'Like what you see? Visit the ' +\n",
              "          '<a target=\"_blank\" href=https://colab.research.google.com/notebooks/data_table.ipynb>data table notebook</a>'\n",
              "          + ' to learn more about interactive tables.';\n",
              "        element.innerHTML = '';\n",
              "        dataTable['output_type'] = 'display_data';\n",
              "        await google.colab.output.renderOutput(dataTable, element);\n",
              "        const docLink = document.createElement('div');\n",
              "        docLink.innerHTML = docLinkHtml;\n",
              "        element.appendChild(docLink);\n",
              "      }\n",
              "    </script>\n",
              "  </div>\n",
              "\n",
              "\n",
              "    <div id=\"df-6eba6afb-0285-420b-9714-853f2d7cd1fc\">\n",
              "      <button class=\"colab-df-quickchart\" onclick=\"quickchart('df-6eba6afb-0285-420b-9714-853f2d7cd1fc')\"\n",
              "                title=\"Suggest charts\"\n",
              "                style=\"display:none;\">\n",
              "\n",
              "<svg xmlns=\"http://www.w3.org/2000/svg\" height=\"24px\"viewBox=\"0 0 24 24\"\n",
              "     width=\"24px\">\n",
              "    <g>\n",
              "        <path d=\"M19 3H5c-1.1 0-2 .9-2 2v14c0 1.1.9 2 2 2h14c1.1 0 2-.9 2-2V5c0-1.1-.9-2-2-2zM9 17H7v-7h2v7zm4 0h-2V7h2v10zm4 0h-2v-4h2v4z\"/>\n",
              "    </g>\n",
              "</svg>\n",
              "      </button>\n",
              "\n",
              "<style>\n",
              "  .colab-df-quickchart {\n",
              "      --bg-color: #E8F0FE;\n",
              "      --fill-color: #1967D2;\n",
              "      --hover-bg-color: #E2EBFA;\n",
              "      --hover-fill-color: #174EA6;\n",
              "      --disabled-fill-color: #AAA;\n",
              "      --disabled-bg-color: #DDD;\n",
              "  }\n",
              "\n",
              "  [theme=dark] .colab-df-quickchart {\n",
              "      --bg-color: #3B4455;\n",
              "      --fill-color: #D2E3FC;\n",
              "      --hover-bg-color: #434B5C;\n",
              "      --hover-fill-color: #FFFFFF;\n",
              "      --disabled-bg-color: #3B4455;\n",
              "      --disabled-fill-color: #666;\n",
              "  }\n",
              "\n",
              "  .colab-df-quickchart {\n",
              "    background-color: var(--bg-color);\n",
              "    border: none;\n",
              "    border-radius: 50%;\n",
              "    cursor: pointer;\n",
              "    display: none;\n",
              "    fill: var(--fill-color);\n",
              "    height: 32px;\n",
              "    padding: 0;\n",
              "    width: 32px;\n",
              "  }\n",
              "\n",
              "  .colab-df-quickchart:hover {\n",
              "    background-color: var(--hover-bg-color);\n",
              "    box-shadow: 0 1px 2px rgba(60, 64, 67, 0.3), 0 1px 3px 1px rgba(60, 64, 67, 0.15);\n",
              "    fill: var(--button-hover-fill-color);\n",
              "  }\n",
              "\n",
              "  .colab-df-quickchart-complete:disabled,\n",
              "  .colab-df-quickchart-complete:disabled:hover {\n",
              "    background-color: var(--disabled-bg-color);\n",
              "    fill: var(--disabled-fill-color);\n",
              "    box-shadow: none;\n",
              "  }\n",
              "\n",
              "  .colab-df-spinner {\n",
              "    border: 2px solid var(--fill-color);\n",
              "    border-color: transparent;\n",
              "    border-bottom-color: var(--fill-color);\n",
              "    animation:\n",
              "      spin 1s steps(1) infinite;\n",
              "  }\n",
              "\n",
              "  @keyframes spin {\n",
              "    0% {\n",
              "      border-color: transparent;\n",
              "      border-bottom-color: var(--fill-color);\n",
              "      border-left-color: var(--fill-color);\n",
              "    }\n",
              "    20% {\n",
              "      border-color: transparent;\n",
              "      border-left-color: var(--fill-color);\n",
              "      border-top-color: var(--fill-color);\n",
              "    }\n",
              "    30% {\n",
              "      border-color: transparent;\n",
              "      border-left-color: var(--fill-color);\n",
              "      border-top-color: var(--fill-color);\n",
              "      border-right-color: var(--fill-color);\n",
              "    }\n",
              "    40% {\n",
              "      border-color: transparent;\n",
              "      border-right-color: var(--fill-color);\n",
              "      border-top-color: var(--fill-color);\n",
              "    }\n",
              "    60% {\n",
              "      border-color: transparent;\n",
              "      border-right-color: var(--fill-color);\n",
              "    }\n",
              "    80% {\n",
              "      border-color: transparent;\n",
              "      border-right-color: var(--fill-color);\n",
              "      border-bottom-color: var(--fill-color);\n",
              "    }\n",
              "    90% {\n",
              "      border-color: transparent;\n",
              "      border-bottom-color: var(--fill-color);\n",
              "    }\n",
              "  }\n",
              "</style>\n",
              "\n",
              "      <script>\n",
              "        async function quickchart(key) {\n",
              "          const quickchartButtonEl =\n",
              "            document.querySelector('#' + key + ' button');\n",
              "          quickchartButtonEl.disabled = true;  // To prevent multiple clicks.\n",
              "          quickchartButtonEl.classList.add('colab-df-spinner');\n",
              "          try {\n",
              "            const charts = await google.colab.kernel.invokeFunction(\n",
              "                'suggestCharts', [key], {});\n",
              "          } catch (error) {\n",
              "            console.error('Error during call to suggestCharts:', error);\n",
              "          }\n",
              "          quickchartButtonEl.classList.remove('colab-df-spinner');\n",
              "          quickchartButtonEl.classList.add('colab-df-quickchart-complete');\n",
              "        }\n",
              "        (() => {\n",
              "          let quickchartButtonEl =\n",
              "            document.querySelector('#df-6eba6afb-0285-420b-9714-853f2d7cd1fc button');\n",
              "          quickchartButtonEl.style.display =\n",
              "            google.colab.kernel.accessAllowed ? 'block' : 'none';\n",
              "        })();\n",
              "      </script>\n",
              "    </div>\n",
              "\n",
              "    </div>\n",
              "  </div>\n"
            ],
            "application/vnd.google.colaboratory.intrinsic+json": {
              "type": "dataframe",
              "variable_name": "df"
            }
          },
          "metadata": {},
          "execution_count": 3
        }
      ]
    },
    {
      "cell_type": "code",
      "source": [
        "df.info()"
      ],
      "metadata": {
        "colab": {
          "base_uri": "https://localhost:8080/"
        },
        "id": "QRvG9NTGOHHW",
        "outputId": "e4e97b74-8643-4279-bbf0-96a4923d5683"
      },
      "execution_count": null,
      "outputs": [
        {
          "output_type": "stream",
          "name": "stdout",
          "text": [
            "<class 'pandas.core.frame.DataFrame'>\n",
            "RangeIndex: 101766 entries, 0 to 101765\n",
            "Data columns (total 50 columns):\n",
            " #   Column                    Non-Null Count   Dtype \n",
            "---  ------                    --------------   ----- \n",
            " 0   encounter_id              101766 non-null  int64 \n",
            " 1   patient_nbr               101766 non-null  int64 \n",
            " 2   race                      101766 non-null  object\n",
            " 3   gender                    101766 non-null  object\n",
            " 4   age                       101766 non-null  object\n",
            " 5   weight                    101766 non-null  object\n",
            " 6   admission_type_id         101766 non-null  int64 \n",
            " 7   discharge_disposition_id  101766 non-null  int64 \n",
            " 8   admission_source_id       101766 non-null  int64 \n",
            " 9   time_in_hospital          101766 non-null  int64 \n",
            " 10  payer_code                101766 non-null  object\n",
            " 11  medical_specialty         101766 non-null  object\n",
            " 12  num_lab_procedures        101766 non-null  int64 \n",
            " 13  num_procedures            101766 non-null  int64 \n",
            " 14  num_medications           101766 non-null  int64 \n",
            " 15  number_outpatient         101766 non-null  int64 \n",
            " 16  number_emergency          101766 non-null  int64 \n",
            " 17  number_inpatient          101766 non-null  int64 \n",
            " 18  diag_1                    101766 non-null  object\n",
            " 19  diag_2                    101766 non-null  object\n",
            " 20  diag_3                    101766 non-null  object\n",
            " 21  number_diagnoses          101766 non-null  int64 \n",
            " 22  max_glu_serum             5346 non-null    object\n",
            " 23  A1Cresult                 17018 non-null   object\n",
            " 24  metformin                 101766 non-null  object\n",
            " 25  repaglinide               101766 non-null  object\n",
            " 26  nateglinide               101766 non-null  object\n",
            " 27  chlorpropamide            101766 non-null  object\n",
            " 28  glimepiride               101766 non-null  object\n",
            " 29  acetohexamide             101766 non-null  object\n",
            " 30  glipizide                 101766 non-null  object\n",
            " 31  glyburide                 101766 non-null  object\n",
            " 32  tolbutamide               101766 non-null  object\n",
            " 33  pioglitazone              101766 non-null  object\n",
            " 34  rosiglitazone             101766 non-null  object\n",
            " 35  acarbose                  101766 non-null  object\n",
            " 36  miglitol                  101766 non-null  object\n",
            " 37  troglitazone              101766 non-null  object\n",
            " 38  tolazamide                101766 non-null  object\n",
            " 39  examide                   101766 non-null  object\n",
            " 40  citoglipton               101766 non-null  object\n",
            " 41  insulin                   101766 non-null  object\n",
            " 42  glyburide-metformin       101766 non-null  object\n",
            " 43  glipizide-metformin       101766 non-null  object\n",
            " 44  glimepiride-pioglitazone  101766 non-null  object\n",
            " 45  metformin-rosiglitazone   101766 non-null  object\n",
            " 46  metformin-pioglitazone    101766 non-null  object\n",
            " 47  change                    101766 non-null  object\n",
            " 48  diabetesMed               101766 non-null  object\n",
            " 49  readmitted                101766 non-null  object\n",
            "dtypes: int64(13), object(37)\n",
            "memory usage: 38.8+ MB\n"
          ]
        }
      ]
    },
    {
      "cell_type": "markdown",
      "source": [
        "# Data Cleaning"
      ],
      "metadata": {
        "id": "diXUs4wdUKvf"
      }
    },
    {
      "cell_type": "markdown",
      "source": [
        "## Dropping ID columns"
      ],
      "metadata": {
        "id": "YKzZpc2mUNo_"
      }
    },
    {
      "cell_type": "code",
      "source": [
        "# dropping id columns\n",
        "for col in df.columns:\n",
        "  if '_id' in col:\n",
        "    print(col)\n",
        "    df.drop(col,axis=1,inplace=True)"
      ],
      "metadata": {
        "colab": {
          "base_uri": "https://localhost:8080/"
        },
        "id": "nbbGiGZbOHCr",
        "outputId": "3acd7c3b-2707-4d45-fd06-8f52105447b3"
      },
      "execution_count": null,
      "outputs": [
        {
          "output_type": "stream",
          "name": "stdout",
          "text": [
            "encounter_id\n",
            "admission_type_id\n",
            "discharge_disposition_id\n",
            "admission_source_id\n"
          ]
        }
      ]
    },
    {
      "cell_type": "markdown",
      "source": [
        "## Dealing with missing values"
      ],
      "metadata": {
        "id": "Y5WBPQzoUSX5"
      }
    },
    {
      "cell_type": "code",
      "source": [
        "# replace all ? with np.nan\n",
        "df = df.replace('?', np.nan)"
      ],
      "metadata": {
        "id": "Ntq27eTTOG-d"
      },
      "execution_count": null,
      "outputs": []
    },
    {
      "cell_type": "code",
      "source": [
        "df.info()"
      ],
      "metadata": {
        "colab": {
          "base_uri": "https://localhost:8080/"
        },
        "id": "hyCze9dbOG6g",
        "outputId": "9e952b0d-414d-435f-8b59-1fa05c58d8d7"
      },
      "execution_count": null,
      "outputs": [
        {
          "output_type": "stream",
          "name": "stdout",
          "text": [
            "<class 'pandas.core.frame.DataFrame'>\n",
            "RangeIndex: 101766 entries, 0 to 101765\n",
            "Data columns (total 46 columns):\n",
            " #   Column                    Non-Null Count   Dtype \n",
            "---  ------                    --------------   ----- \n",
            " 0   patient_nbr               101766 non-null  int64 \n",
            " 1   race                      99493 non-null   object\n",
            " 2   gender                    101766 non-null  object\n",
            " 3   age                       101766 non-null  object\n",
            " 4   weight                    3197 non-null    object\n",
            " 5   time_in_hospital          101766 non-null  int64 \n",
            " 6   payer_code                61510 non-null   object\n",
            " 7   medical_specialty         51817 non-null   object\n",
            " 8   num_lab_procedures        101766 non-null  int64 \n",
            " 9   num_procedures            101766 non-null  int64 \n",
            " 10  num_medications           101766 non-null  int64 \n",
            " 11  number_outpatient         101766 non-null  int64 \n",
            " 12  number_emergency          101766 non-null  int64 \n",
            " 13  number_inpatient          101766 non-null  int64 \n",
            " 14  diag_1                    101745 non-null  object\n",
            " 15  diag_2                    101408 non-null  object\n",
            " 16  diag_3                    100343 non-null  object\n",
            " 17  number_diagnoses          101766 non-null  int64 \n",
            " 18  max_glu_serum             5346 non-null    object\n",
            " 19  A1Cresult                 17018 non-null   object\n",
            " 20  metformin                 101766 non-null  object\n",
            " 21  repaglinide               101766 non-null  object\n",
            " 22  nateglinide               101766 non-null  object\n",
            " 23  chlorpropamide            101766 non-null  object\n",
            " 24  glimepiride               101766 non-null  object\n",
            " 25  acetohexamide             101766 non-null  object\n",
            " 26  glipizide                 101766 non-null  object\n",
            " 27  glyburide                 101766 non-null  object\n",
            " 28  tolbutamide               101766 non-null  object\n",
            " 29  pioglitazone              101766 non-null  object\n",
            " 30  rosiglitazone             101766 non-null  object\n",
            " 31  acarbose                  101766 non-null  object\n",
            " 32  miglitol                  101766 non-null  object\n",
            " 33  troglitazone              101766 non-null  object\n",
            " 34  tolazamide                101766 non-null  object\n",
            " 35  examide                   101766 non-null  object\n",
            " 36  citoglipton               101766 non-null  object\n",
            " 37  insulin                   101766 non-null  object\n",
            " 38  glyburide-metformin       101766 non-null  object\n",
            " 39  glipizide-metformin       101766 non-null  object\n",
            " 40  glimepiride-pioglitazone  101766 non-null  object\n",
            " 41  metformin-rosiglitazone   101766 non-null  object\n",
            " 42  metformin-pioglitazone    101766 non-null  object\n",
            " 43  change                    101766 non-null  object\n",
            " 44  diabetesMed               101766 non-null  object\n",
            " 45  readmitted                101766 non-null  object\n",
            "dtypes: int64(9), object(37)\n",
            "memory usage: 35.7+ MB\n"
          ]
        }
      ]
    },
    {
      "cell_type": "code",
      "source": [
        "df.weight.unique()"
      ],
      "metadata": {
        "colab": {
          "base_uri": "https://localhost:8080/"
        },
        "id": "89ABoi8VOGsb",
        "outputId": "560ac866-0161-46d6-f70f-95f2e23d7380"
      },
      "execution_count": null,
      "outputs": [
        {
          "output_type": "execute_result",
          "data": {
            "text/plain": [
              "array([nan, '[75-100)', '[50-75)', '[0-25)', '[100-125)', '[25-50)',\n",
              "       '[125-150)', '[175-200)', '[150-175)', '>200'], dtype=object)"
            ]
          },
          "metadata": {},
          "execution_count": 8
        }
      ]
    },
    {
      "cell_type": "code",
      "source": [
        "df.drop('weight',axis=1,inplace=True)"
      ],
      "metadata": {
        "id": "ddew2rZ2OGmG"
      },
      "execution_count": null,
      "outputs": []
    },
    {
      "cell_type": "code",
      "source": [
        "df.max_glu_serum.unique()"
      ],
      "metadata": {
        "colab": {
          "base_uri": "https://localhost:8080/"
        },
        "id": "j4bM-dZROGhQ",
        "outputId": "bade80b1-0e73-4678-f22b-fca20b42baaa"
      },
      "execution_count": null,
      "outputs": [
        {
          "output_type": "execute_result",
          "data": {
            "text/plain": [
              "array([nan, '>300', 'Norm', '>200'], dtype=object)"
            ]
          },
          "metadata": {},
          "execution_count": 10
        }
      ]
    },
    {
      "cell_type": "code",
      "source": [
        "df.A1Cresult.unique()"
      ],
      "metadata": {
        "colab": {
          "base_uri": "https://localhost:8080/"
        },
        "id": "jcNG8G_wOGdw",
        "outputId": "29fb4e65-839d-492c-971d-9355e53915ce"
      },
      "execution_count": null,
      "outputs": [
        {
          "output_type": "execute_result",
          "data": {
            "text/plain": [
              "array([nan, '>7', '>8', 'Norm'], dtype=object)"
            ]
          },
          "metadata": {},
          "execution_count": 11
        }
      ]
    },
    {
      "cell_type": "code",
      "source": [
        "df.drop('payer_code',axis=1,inplace=True)"
      ],
      "metadata": {
        "id": "MQeDSqaDOGaS"
      },
      "execution_count": null,
      "outputs": []
    },
    {
      "cell_type": "code",
      "source": [
        "df.race.unique()"
      ],
      "metadata": {
        "colab": {
          "base_uri": "https://localhost:8080/"
        },
        "id": "jxjsQ2MTOGPT",
        "outputId": "1c290210-986c-40e6-f348-12c7c221ff74"
      },
      "execution_count": null,
      "outputs": [
        {
          "output_type": "execute_result",
          "data": {
            "text/plain": [
              "array(['Caucasian', 'AfricanAmerican', nan, 'Other', 'Asian', 'Hispanic'],\n",
              "      dtype=object)"
            ]
          },
          "metadata": {},
          "execution_count": 13
        }
      ]
    },
    {
      "cell_type": "code",
      "source": [
        "df.drop(df.index[df.race.isna()] , axis=0, inplace=True)"
      ],
      "metadata": {
        "id": "e7zMwW5qOGJf"
      },
      "execution_count": null,
      "outputs": []
    },
    {
      "cell_type": "code",
      "source": [
        "df.reset_index(inplace=True,drop=True,)"
      ],
      "metadata": {
        "id": "c1jpMKd1OF9o"
      },
      "execution_count": null,
      "outputs": []
    },
    {
      "cell_type": "code",
      "source": [
        "df.info()"
      ],
      "metadata": {
        "colab": {
          "base_uri": "https://localhost:8080/"
        },
        "id": "9zTdCqpkOF50",
        "outputId": "6e4b6613-509b-4107-c759-831d50f9327e"
      },
      "execution_count": null,
      "outputs": [
        {
          "output_type": "stream",
          "name": "stdout",
          "text": [
            "<class 'pandas.core.frame.DataFrame'>\n",
            "RangeIndex: 99493 entries, 0 to 99492\n",
            "Data columns (total 44 columns):\n",
            " #   Column                    Non-Null Count  Dtype \n",
            "---  ------                    --------------  ----- \n",
            " 0   patient_nbr               99493 non-null  int64 \n",
            " 1   race                      99493 non-null  object\n",
            " 2   gender                    99493 non-null  object\n",
            " 3   age                       99493 non-null  object\n",
            " 4   time_in_hospital          99493 non-null  int64 \n",
            " 5   medical_specialty         50727 non-null  object\n",
            " 6   num_lab_procedures        99493 non-null  int64 \n",
            " 7   num_procedures            99493 non-null  int64 \n",
            " 8   num_medications           99493 non-null  int64 \n",
            " 9   number_outpatient         99493 non-null  int64 \n",
            " 10  number_emergency          99493 non-null  int64 \n",
            " 11  number_inpatient          99493 non-null  int64 \n",
            " 12  diag_1                    99474 non-null  object\n",
            " 13  diag_2                    99157 non-null  object\n",
            " 14  diag_3                    98144 non-null  object\n",
            " 15  number_diagnoses          99493 non-null  int64 \n",
            " 16  max_glu_serum             5290 non-null   object\n",
            " 17  A1Cresult                 16596 non-null  object\n",
            " 18  metformin                 99493 non-null  object\n",
            " 19  repaglinide               99493 non-null  object\n",
            " 20  nateglinide               99493 non-null  object\n",
            " 21  chlorpropamide            99493 non-null  object\n",
            " 22  glimepiride               99493 non-null  object\n",
            " 23  acetohexamide             99493 non-null  object\n",
            " 24  glipizide                 99493 non-null  object\n",
            " 25  glyburide                 99493 non-null  object\n",
            " 26  tolbutamide               99493 non-null  object\n",
            " 27  pioglitazone              99493 non-null  object\n",
            " 28  rosiglitazone             99493 non-null  object\n",
            " 29  acarbose                  99493 non-null  object\n",
            " 30  miglitol                  99493 non-null  object\n",
            " 31  troglitazone              99493 non-null  object\n",
            " 32  tolazamide                99493 non-null  object\n",
            " 33  examide                   99493 non-null  object\n",
            " 34  citoglipton               99493 non-null  object\n",
            " 35  insulin                   99493 non-null  object\n",
            " 36  glyburide-metformin       99493 non-null  object\n",
            " 37  glipizide-metformin       99493 non-null  object\n",
            " 38  glimepiride-pioglitazone  99493 non-null  object\n",
            " 39  metformin-rosiglitazone   99493 non-null  object\n",
            " 40  metformin-pioglitazone    99493 non-null  object\n",
            " 41  change                    99493 non-null  object\n",
            " 42  diabetesMed               99493 non-null  object\n",
            " 43  readmitted                99493 non-null  object\n",
            "dtypes: int64(9), object(35)\n",
            "memory usage: 33.4+ MB\n"
          ]
        }
      ]
    },
    {
      "cell_type": "code",
      "source": [
        "df.medical_specialty.unique()"
      ],
      "metadata": {
        "colab": {
          "base_uri": "https://localhost:8080/"
        },
        "id": "Auf9wAIdOF1e",
        "outputId": "8a04dd61-af54-4e44-be95-b719d1ba6529"
      },
      "execution_count": null,
      "outputs": [
        {
          "output_type": "execute_result",
          "data": {
            "text/plain": [
              "array(['Pediatrics-Endocrinology', nan, 'InternalMedicine',\n",
              "       'Family/GeneralPractice', 'Cardiology', 'Surgery-General',\n",
              "       'Orthopedics', 'Gastroenterology',\n",
              "       'Surgery-Cardiovascular/Thoracic', 'Nephrology',\n",
              "       'Orthopedics-Reconstructive', 'Psychiatry', 'Emergency/Trauma',\n",
              "       'Pulmonology', 'Surgery-Neuro',\n",
              "       'Obsterics&Gynecology-GynecologicOnco', 'ObstetricsandGynecology',\n",
              "       'Pediatrics', 'Otolaryngology', 'Surgery-Colon&Rectal',\n",
              "       'Pediatrics-CriticalCare', 'Endocrinology', 'Hematology/Oncology',\n",
              "       'Urology', 'Psychiatry-Child/Adolescent', 'Pediatrics-Pulmonology',\n",
              "       'Neurology', 'Anesthesiology-Pediatric', 'Radiology',\n",
              "       'Pediatrics-Hematology-Oncology', 'Psychology', 'Podiatry',\n",
              "       'Gynecology', 'Oncology', 'Pediatrics-Neurology',\n",
              "       'Surgery-Plastic', 'Surgery-Thoracic',\n",
              "       'Surgery-PlasticwithinHeadandNeck', 'Ophthalmology',\n",
              "       'Surgery-Pediatric', 'Pediatrics-EmergencyMedicine',\n",
              "       'PhysicalMedicineandRehabilitation', 'InfectiousDiseases',\n",
              "       'Anesthesiology', 'Rheumatology', 'AllergyandImmunology',\n",
              "       'Surgery-Maxillofacial', 'Pediatrics-InfectiousDiseases',\n",
              "       'Pediatrics-AllergyandImmunology', 'Dentistry', 'Surgeon',\n",
              "       'Surgery-Vascular', 'Osteopath', 'Psychiatry-Addictive',\n",
              "       'Surgery-Cardiovascular', 'PhysicianNotFound', 'Hematology',\n",
              "       'Proctology', 'Obstetrics', 'SurgicalSpecialty', 'Radiologist',\n",
              "       'Pathology', 'Dermatology', 'SportsMedicine', 'Speech',\n",
              "       'Hospitalist', 'OutreachServices', 'Cardiology-Pediatric',\n",
              "       'Perinatology', 'Neurophysiology', 'Endocrinology-Metabolism',\n",
              "       'DCPTEAM', 'Resident'], dtype=object)"
            ]
          },
          "metadata": {},
          "execution_count": 23
        }
      ]
    },
    {
      "cell_type": "code",
      "source": [
        "def speciality(value):\n",
        "  if type(value) == float:\n",
        "    return 'other'\n",
        "  if 'Surgery' in value:\n",
        "    return 'surgery'\n",
        "  elif 'Family' in value:\n",
        "    return 'family'\n",
        "  elif 'Cardiology' in value:\n",
        "    return 'Cardiology'\n",
        "  elif value == 'not measured':\n",
        "    return 'not measured'\n",
        "  elif value == 'InternalMedicine':\n",
        "    return 'InternalMedicine'\n",
        "  else:\n",
        "    return 'other'"
      ],
      "metadata": {
        "id": "4l6Id2sPOFvM"
      },
      "execution_count": null,
      "outputs": []
    },
    {
      "cell_type": "code",
      "source": [
        "df.medical_specialty = df.medical_specialty.apply(speciality)"
      ],
      "metadata": {
        "id": "YKADRP-NOFky"
      },
      "execution_count": null,
      "outputs": []
    },
    {
      "cell_type": "code",
      "source": [
        "df.medical_specialty.unique()"
      ],
      "metadata": {
        "colab": {
          "base_uri": "https://localhost:8080/"
        },
        "id": "KSCnWo20OFTG",
        "outputId": "c928c0ef-3208-40ca-b26c-631e4bb972ce"
      },
      "execution_count": null,
      "outputs": [
        {
          "output_type": "execute_result",
          "data": {
            "text/plain": [
              "array(['other', 'InternalMedicine', 'family', 'Cardiology', 'surgery'],\n",
              "      dtype=object)"
            ]
          },
          "metadata": {},
          "execution_count": 28
        }
      ]
    },
    {
      "cell_type": "code",
      "source": [
        "def glucose(value):\n",
        "  if value == '>300':\n",
        "    return 2\n",
        "  elif value == '>200':\n",
        "    return 1\n",
        "  else:\n",
        "    return 0"
      ],
      "metadata": {
        "id": "Ab1-2QSuV1VC"
      },
      "execution_count": null,
      "outputs": []
    },
    {
      "cell_type": "code",
      "source": [
        "df.max_glu_serum = df.max_glu_serum.apply(glucose)"
      ],
      "metadata": {
        "id": "1bsVUNNVV1be"
      },
      "execution_count": null,
      "outputs": []
    },
    {
      "cell_type": "code",
      "source": [
        "df.max_glu_serum.unique()"
      ],
      "metadata": {
        "colab": {
          "base_uri": "https://localhost:8080/"
        },
        "id": "Lbw6yjgXV1gr",
        "outputId": "51361b02-ad45-4f9b-9e4c-9aefa471e525"
      },
      "execution_count": null,
      "outputs": [
        {
          "output_type": "execute_result",
          "data": {
            "text/plain": [
              "array([0, 2, 1])"
            ]
          },
          "metadata": {},
          "execution_count": 31
        }
      ]
    },
    {
      "cell_type": "code",
      "source": [
        "def a1c(value):\n",
        "  if value == '>7':\n",
        "    return 1\n",
        "  elif value == '>8':\n",
        "    return 2\n",
        "  else:\n",
        "    return 0"
      ],
      "metadata": {
        "id": "4tI8-3MiV75B"
      },
      "execution_count": null,
      "outputs": []
    },
    {
      "cell_type": "code",
      "source": [
        "df.A1Cresult = df.A1Cresult.apply(a1c)"
      ],
      "metadata": {
        "id": "7_-TcdurV8Ca"
      },
      "execution_count": null,
      "outputs": []
    },
    {
      "cell_type": "code",
      "source": [
        "def age(value):\n",
        "  if value == '[0-10)':\n",
        "    return 5\n",
        "  elif value == '[10-20)':\n",
        "    return 15\n",
        "  elif value == '[20-30)':\n",
        "    return 25\n",
        "  elif value == '[30-40)':\n",
        "    return 35\n",
        "  elif value == '[40-50)':\n",
        "    return 45\n",
        "  elif value == '[50-60)':\n",
        "    return 55\n",
        "  elif value == '[60-70)':\n",
        "    return 65\n",
        "  elif value == '[70-80)':\n",
        "    return 75\n",
        "  elif value == '[80-90)':\n",
        "    return 85\n",
        "  else:\n",
        "    return 90\n",
        "\n"
      ],
      "metadata": {
        "id": "3jORsM1xV_qf"
      },
      "execution_count": null,
      "outputs": []
    },
    {
      "cell_type": "code",
      "source": [
        "df.age = df.age.apply(age)"
      ],
      "metadata": {
        "id": "SQSuYBGKV_xP"
      },
      "execution_count": null,
      "outputs": []
    },
    {
      "cell_type": "code",
      "source": [
        "df.duplicated().sum()"
      ],
      "metadata": {
        "colab": {
          "base_uri": "https://localhost:8080/"
        },
        "id": "tEpHJaVDV_3C",
        "outputId": "1a23805c-835c-431e-ad9f-04a8880d825d"
      },
      "execution_count": null,
      "outputs": [
        {
          "output_type": "execute_result",
          "data": {
            "text/plain": [
              "np.int64(0)"
            ]
          },
          "metadata": {},
          "execution_count": 36
        }
      ]
    },
    {
      "cell_type": "code",
      "source": [],
      "metadata": {
        "id": "K3vUc8mhV_9E"
      },
      "execution_count": null,
      "outputs": []
    },
    {
      "cell_type": "markdown",
      "source": [
        "## Data Exploration"
      ],
      "metadata": {
        "id": "Czb8MFEpZ-4Y"
      }
    },
    {
      "cell_type": "code",
      "execution_count": null,
      "metadata": {
        "colab": {
          "base_uri": "https://localhost:8080/"
        },
        "id": "bQv3UAT59RY5",
        "outputId": "456878a4-a00e-4d58-bdcf-65c36c75c976"
      },
      "outputs": [
        {
          "output_type": "stream",
          "name": "stdout",
          "text": [
            "race ['Caucasian' 'AfricanAmerican' 'Other' 'Asian' 'Hispanic']\n",
            "gender ['Female' 'Male' 'Unknown/Invalid']\n",
            "medical_specialty ['other' 'InternalMedicine' 'family' 'Cardiology' 'surgery']\n",
            "diag_1 ['250.83' '276' '648' '8' '197' '414' '428' '398' '434' '250.7' '157'\n",
            " '518' '999' '410' '682' '402' 'V57' '189' '786' '427' '996' '277' '584'\n",
            " '462' '473' '411' '174' '486' '998' '511' '432' '626' '295' '196' '250.6'\n",
            " '182' '845' '423' '808' '250.4' '722' '403' '250.11' '784' '707' '440'\n",
            " '151' '715' '997' '198' '564' '38' '590' '578' '250.32' '433' '569' '185'\n",
            " '536' '255' '250.13' '599' '558' '574' '491' '560' '244' '250.03' '577'\n",
            " '730' '188' '824' '250.8' '332' '562' '291' '296' '510' '401' '263' '438'\n",
            " '70' '250.02' '493' '642' '571' '738' '593' '618' '250.42' '807' '456'\n",
            " '446' '572' '575' '250.41' '820' '515' '780' '250.22' '995' '235'\n",
            " '250.82' '721' '787' '556' '162' '724' '282' '514' 'V55' '281' '250.33'\n",
            " '530' '466' '435' '250.12' 'V53' '789' '566' '822' '191' '557' '733'\n",
            " '455' '711' '482' '202' '280' '553' '154' '441' '250.81' '349' nan '962'\n",
            " '592' '507' '386' '156' '200' '728' '459' '426' '607' '337' '82' '531'\n",
            " '812' '225' '596' '288' 'V58' '656' '573' '492' '220' '516' '210' '922'\n",
            " '286' '885' '958' '661' '969' '250.93' '227' '112' '404' '823' '532'\n",
            " '416' '346' '535' '453' '250' '595' '211' '303' '250.01' '852' '218'\n",
            " '540' '457' '285' '431' '340' '550' '351' '601' '723' '555' '153' '443'\n",
            " '380' '204' '424' '241' '358' '694' '331' '345' '681' '447' '290' '158'\n",
            " '579' '436' '335' '309' '654' '805' '799' '292' '183' '78' '851' '458'\n",
            " '586' '311' '54' '892' '305' '293' '415' '591' '794' '803' '79' '429'\n",
            " '278' '658' '598' '729' '585' '444' '604' '727' '214' '552' '284' '680'\n",
            " '708' '41' '644' '481' '821' '413' '437' '968' '756' '632' '782' '359'\n",
            " '275' '512' '781' '420' '368' '522' '737' '294' '825' '135' '304' '320'\n",
            " '250.31' '669' '868' '496' '250.43' '826' '567' '3' '203' '53' '251'\n",
            " '565' '495' '49' '250.1' '297' '663' '576' '355' '850' '287' '250.2'\n",
            " '611' '348' '840' '350' '726' '537' '620' '180' '366' '783' '11' '751'\n",
            " '716' '250.3' '199' '464' '580' '836' '664' '283' '966' '289' '965' '184'\n",
            " '480' '608' '333' '972' '212' '117' '788' '625' '924' '959' '621' '238'\n",
            " '785' '714' '942' '250.23' '710' '47' '933' '508' '478' '844' '7' '233'\n",
            " '42' '250.5' '397' '395' '201' '421' '253' '250.92' '600' '494' '977'\n",
            " '39' '659' '312' '614' '647' '652' '646' '274' '861' '425' '527' '451'\n",
            " '485' '217' '250.53' '442' '970' '193' '160' '322' '581' '475' '623'\n",
            " '374' '582' '568' '465' '801' '237' '376' '150' '461' '913' '226' '617'\n",
            " '987' '641' '298' '790' '336' '362' '228' '513' '383' '746' '353' '911'\n",
            " '506' '873' '155' '860' '534' '802' '141' 'V45' '310' '341' '242' '719'\n",
            " '736' '239' '533' '616' '519' '301' 'V66' '5' '989' '230' '300' '853'\n",
            " '871' '570' '848' '463' '9' '934' '250.21' '361' '594' '810' '643' '430'\n",
            " '528' '205' '791' '983' '992' '490' '396' '172' '171' '622' '306' '863'\n",
            " '864' '474' '660' '759' '356' '634' '967' '551' '695' '187' '732' '747'\n",
            " '323' '308' '370' '252' '152' '846' '164' '365' '718' '48' '266' '720'\n",
            " '94' '161' '344' '797' '813' '170' '878' '904' 'V56' '882' '843' '709'\n",
            " '973' '454' '686' '939' '487' '229' '991' '483' '357' '692' '796' '693'\n",
            " '935' '936' '800' '920' 'V26' '261' '307' '262' '250.9' '831' '145' '388'\n",
            " '223' 'V71' '839' '685' 'V54' '655' '35' '34' '179' '964' '136' '324'\n",
            " '389' '815' '334' '143' '526' '588' '192' 'V67' '394' '917' '88' '219'\n",
            " '325' '501' '792' '717' '994' '990' '793' '207' '637' '195' '373' '847'\n",
            " '827' '31' '891' '814' 'V60' '703' '865' '352' '627' '378' '342' '886'\n",
            " '369' '745' '705' '816' '541' '986' '610' '633' '640' '753' '173' '835'\n",
            " '379' '445' '272' '945' '619' '881' '250.52' '866' '405' '916' '215'\n",
            " '893' '75' '928' '906' '897' '725' '867' '115' '734' '521' '674' '470'\n",
            " '834' '146' '696' '524' '980' '691' '384' '142' '879' '250.51' '246'\n",
            " '208' '448' '955' '653' '149' '245' '735' '883' '854' '952' '838' '194'\n",
            " 'V43' '163' '216' '147' '354' '27' '477' '318' '880' '921' '890' '377'\n",
            " '471' '683' '175' '602' '250.91' '982' '382' '706' '375' '417' '131'\n",
            " '347' '385' '870' '148' '862' '61' '817' '914' '360' '684' '314' 'V63'\n",
            " '36' '57' '240' '915' '971' '795' '988' '452' '963' '327' '731' '842'\n",
            " 'V25' '645' '665' '110' '944' '603' '923' '412' '363' '957' '976' '698'\n",
            " '299' '700' '273' '974' '97' '529' '66' '98' '605' '941' '806' '84' '271'\n",
            " '837' '657' '895' '338' '523' '542' '114' '543' '372' 'V70' 'E909' '583'\n",
            " 'V07' '422' '615' '279' '500' '919' '875' '236' '381' '804' '704' '23'\n",
            " '58' '649' '832' '133' '975' '833' '391' '690' '10' '52' 'V51']\n",
            "diag_2 [nan '250.01' '250' '250.43' '157' '411' '492' '427' '198' '403' '288'\n",
            " '998' '507' '174' '425' '401' '715' '496' '428' '585' '250.02' '410'\n",
            " '999' '996' '135' '244' '41' '571' '276' '997' '599' '424' '491' '553'\n",
            " '707' '286' '440' '493' '242' '70' 'V45' '250.03' '357' '511' '196' '396'\n",
            " '197' '414' '250.52' '577' '535' '413' '53' '780' '518' '566' '250.6'\n",
            " '867' '285' '486' 'V15' '8' '788' '340' '574' '581' '228' '530' '250.82'\n",
            " '786' '294' '567' '785' '512' '305' '250.51' '280' '648' '560' '444' '38'\n",
            " 'V10' '578' '277' '781' '250.42' '278' '426' '584' '462' '402' '153'\n",
            " '272' '733' '34' '881' '203' '250.41' '250.13' '729' '293' '245' '250.12'\n",
            " '558' '787' '342' '573' '626' '303' '250.53' '458' '710' '415' 'V42'\n",
            " '284' '569' '759' '682' '112' '292' '435' '290' '250.93' '642' '536'\n",
            " '398' '319' '711' 'E878' '446' '255' 'V44' '250.7' '300' '562' '162'\n",
            " '287' '447' '789' '790' '591' '200' '154' '304' '117' '847' '852'\n",
            " '250.83' '250.11' '816' '575' '416' '412' '441' '515' '372' '482' '382'\n",
            " '456' 'V65' '572' '283' '78' '250.81' '576' '432' '295' 'V12' '204' '466'\n",
            " '721' '434' '590' '271' '813' '368' '227' '783' '250.5' '258' '253' '309'\n",
            " '250.91' '519' '333' '250.92' '250.4' '179' '420' '345' '433' '661' '537'\n",
            " '205' '722' '405' '437' '784' '714' '211' 'E812' '263' '202' '397'\n",
            " '250.23' 'E932' '201' '301' '723' '614' '568' '861' 'V57' '724' '189'\n",
            " '297' '453' 'E888' '730' '354' '150' '451' '738' 'E939' '805' 'V43' '155'\n",
            " '910' '218' '358' '220' 'E937' '583' '958' '794' '564' '436' '250.22'\n",
            " '620' '621' '331' '617' '596' '314' '378' '250.8' '625' '478' '731' '172'\n",
            " '404' '681' '470' '279' '281' '531' '443' '799' '337' '311' '719' 'E944'\n",
            " '423' 'E870' '465' 'E849' '782' '481' '480' 'V23' '199' '79' '438' '348'\n",
            " '42' 'E950' '473' '627' '726' '54' '490' '317' '332' '508' '369' '600'\n",
            " '349' '485' '208' '922' '431' '296' 'E934' '753' 'E935' '386' '728' '607'\n",
            " 'E915' '344' '289' '191' '873' '850' '611' '377' '352' '616' 'V17' '136'\n",
            " '455' '933' 'E885' '860' '513' '603' '484' '223' 'V72' '291' '151' 'V58'\n",
            " '550' '510' '891' '185' '592' '791' '138' '598' '336' '362' '217' '825'\n",
            " '298' '821' 'E880' '343' '429' '716' 'E879' '579' '225' '250.9' 'V49'\n",
            " '696' '658' '969' '275' '595' '618' '250.1' '601' '704' '808' 'E890'\n",
            " 'V18' '920' '380' '570' 'E817' '359' '812' '274' 'V14' '324' '758' 'V66'\n",
            " '911' 'E931' 'E924' '593' '792' '727' 'V46' '394' '532' 'V64' '557' '864'\n",
            " '718' '459' 'E942' '807' '604' '924' '820' '580' '273' '241' '282' '824'\n",
            " 'V61' '646' '701' '736' '565' '383' '250.2' 'E947' '452' '872' '905'\n",
            " 'E930' '921' '131' '389' '421' '705' '494' '752' '623' '9' '299' '959'\n",
            " '365' '967' 'E858' '40' '691' '5' '814' '746' '250.31' '556' '680' '745'\n",
            " '351' '306' '695' '552' '346' '918' '882' '947' '520' '188' '31' '356'\n",
            " '737' 'V08' '322' '182' '517' '974' 'E929' 'V53' '912' '252' '608' '516'\n",
            " 'E933' '94' '702' '923' '594' '647' '111' '934' '430' '487' '709' '796'\n",
            " '156' '977' '915' '756' '840' '341' '259' '693' '725' 'V62' '528' '683'\n",
            " '953' '457' '501' 'E900' 'V09' '522' '919' '461' '506' '483' 'E936' '802'\n",
            " '335' 'V54' '320' '945' '906' '239' '454' '826' '823' 'E941' '226' '795'\n",
            " '684' '844' '250.33' '308' '615' '588' '712' '663' '706' '833' '741'\n",
            " '713' '533' 'E884' '233' '586' '214' '555' '717' '755' 'E928' '742' '869'\n",
            " '962' '110' 'V11' '543' '373' '870' '913' '152' '810' '965' '907' '908'\n",
            " '995' '845' '474' '442' '751' '323' '472' '464' '686' '250.32' '540'\n",
            " '251' '811' '652' '659' '851' '422' '815' '325' '463' '992' '692' '521'\n",
            " '917' '524' '916' '193' 'E813' '173' '238' '137' '514' '312' '837' '355'\n",
            " '622' '475' '500' '754' '261' '801' '868' '307' '968' '381' '11' '250.21'\n",
            " '694' '610' '734' 'E814' '310' '130' '246' '892' '846' '634' '75' 'E927'\n",
            " 'E905' '183' '379' 'E917' '163' 'E868' '495' '747' '989' 'E854' '240'\n",
            " '832' '605' '602' '644' 'V16' '35' 'V70' '376' '266' 'E918' '619' '477'\n",
            " '656' '46' '883' '171' 'V13' '698' '842' 'E850' '800' '269' '664' 'E887'\n",
            " '952' '164' 'E881' '527' '685' '366' '836' '27' 'V63' '793' '232' '990'\n",
            " '52' '831' '327' '542' '806' '972' '862' 'E829' 'E919' '944' '448' 'E916'\n",
            " '963' '316' '980' '909' '645' '347' 'V85' '374' 'V02' '748' '256' '186'\n",
            " '866' '975' '96' '395' '262' '865' 'E819' '654' '994' '318' 'E826' '879'\n",
            " '641' '822' '145' '797' '353' 'E938' 'E816' '948' '987' '99' '192'\n",
            " '250.3' 'E906' '534' '115' 'E818' 'E980' '360' '338' '529' '871' '750'\n",
            " '212' '302' '955' '141' '88' 'V25' '215' '350' 'V50' 'V03' 'E853' 'E968'\n",
            " 'E882' '140' '703' '991' '893' 'E821' 'V69' '670' '195' 'V55' '388' '268'\n",
            " '894' '114' '260' '853' '7' '880' 'V86' '180' 'E945' '523' '863' '649'\n",
            " '270' '665' '460' '942' '364' '66' 'E883' '123' '884' 'V60' '843' '927']\n",
            "diag_3 [nan '255' 'V27' '403' '250' 'V45' '38' '486' '996' '197' '250.6' '427'\n",
            " '627' '414' '416' '582' 'V43' '250.01' '263' '250.42' '276' '482' '401'\n",
            " '250.41' '585' '781' '278' '998' '428' '568' '682' '250.02' '305' '707'\n",
            " '496' '599' '424' '518' '553' '794' '411' 'V42' '531' '511' '490' '562'\n",
            " '250.8' '250.7' '250.52' '784' '491' '581' '420' '724' '730' '789' '131'\n",
            " '250.82' '999' '41' '493' '250.03' '753' '786' '529' 'E888' '425' '595'\n",
            " '303' '560' '711' '8' '492' '332' '296' '438' '362' '250.4' '654' '244'\n",
            " 'V70' '737' '625' '681' '250.51' '404' 'V10' '810' '280' '440' '785'\n",
            " '569' '272' '997' '250.43' '918' '584' '54' '788' '426' '722' '250.92'\n",
            " '196' '461' '535' '787' '891' '284' '458' '648' '780' '182' '285' '593'\n",
            " '413' '664' '564' '201' '356' 'V15' '292' '782' '715' '473' '455' '714'\n",
            " 'E932' '357' '348' '294' '250.23' '459' 'E878' '437' '733' '507' '525'\n",
            " '250.53' '397' '572' '805' '453' '331' '736' '402' '591' '576' '465'\n",
            " '533' '703' '349' '315' '658' '608' '578' '716' '382' '300' '282' '571'\n",
            " '536' '596' '287' '644' 'V11' '558' 'E885' '162' '198' '218' '412' '396'\n",
            " 'V14' '570' '433' 'E934' '882' '288' '577' '443' '729' '836' '295' '799'\n",
            " '281' '304' '153' '410' '616' '250.83' '601' '291' '75' '512' '660'\n",
            " '250.5' '598' '337' '574' '653' 'V58' '311' '415' '386' '602' '790' '112'\n",
            " '873' '620' '436' '70' '155' '138' '663' '530' '710' '42' '342' '250.91'\n",
            " 'E884' '515' '307' '704' '728' '731' '583' '238' '441' '293' '573' '532'\n",
            " '290' '594' '319' '250.13' '250.12' '519' '346' '380' '135' '642' '698'\n",
            " '924' '905' 'E933' '555' '309' 'E879' '286' '565' '752' '580' '446' '444'\n",
            " '344' '252' '35' '813' '394' '301' '258' 'V17' '802' '435' '746' 'V12'\n",
            " '709' '881' 'E935' '139' '250.81' '718' '365' '202' '334' '185' '398'\n",
            " 'V44' '517' 'E849' '614' '466' '626' '250.9' '368' '605' '883' '289'\n",
            " '478' '617' '429' '442' 'V25' '866' '610' '557' '959' 'E942' '94' '920'\n",
            " '345' '313' '379' '79' '516' '586' '821' '600' '242' '373' '592' 'V64'\n",
            " '487' '253' '706' 'E947' '117' '340' 'E950' '656' 'E949' '590' 'V09'\n",
            " '250.22' '934' '694' '203' '250.93' '995' '726' '923' '958' '275' 'E929'\n",
            " '211' 'V18' 'V66' '199' '665' '53' '279' '522' '791' '890' '456' 'E938'\n",
            " 'E816' '122' '721' 'V65' '136' '480' '423' 'E920' '793' '647' '537' '575'\n",
            " '351' '845' '336' '274' '719' '945' '434' '494' '227' '157' '208' '174'\n",
            " 'V57' '812' '734' '150' 'V23' '447' '692' '228' 'V16' '756' '405' 'E928'\n",
            " '552' '389' '240' '454' '792' '366' '907' '270' '310' '266' '387' 'E931'\n",
            " '783' '245' '607' '355' 'E930' '705' '372' '369' '611' '283' 'V46' '110'\n",
            " '867' 'E956' '251' '250.2' '820' '712' '695' '567' '343' '723' 'V08'\n",
            " '273' '623' '807' '823' '618' '451' '495' '701' '34' 'V53' '314' '472'\n",
            " 'E945' '11' '189' '534' '354' '333' 'V54' '277' '659' 'E939' '708' '452'\n",
            " '655' '816' '670' '621' '246' '953' '865' 'E817' '646' '151' '378' '78'\n",
            " '298' '840' '641' '521' '745' '619' '912' '506' 'E904' '259' 'E980' '383'\n",
            " '204' '696' '566' '727' '47' 'E943' '358' '191' '965' '921' '432' '27'\n",
            " 'E861' '758' '477' '524' '751' '652' '556' '188' '825' '919' '732' 'E870'\n",
            " '908' '951' '962' '685' 'E944' '527' '341' '693' '250.1' 'V49' '860'\n",
            " '323' '579' '508' '969' '205' '462' 'E880' '680' '697' '826' '200' '457'\n",
            " '717' '738' '742' '735' '235' '308' '528' '725' '241' '824' '464' '260'\n",
            " '917' '239' '661' '892' '261' 'E883' '943' '744' 'E936' '796' '318' '967'\n",
            " '350' '854' 'E905' '9' '741' 'E941' '170' '643' '317' '759' '909' 'V22'\n",
            " '831' '713' '180' '801' '360' '359' '501' '335' '250.11' '306' '811'\n",
            " '690' 'V02' '271' '214' '847' '543' 'V63' '906' '842' '686' '445' 'V55'\n",
            " '808' '861' 'E852' '220' 'E887' 'E858' '915' '970' '256' '747' '395'\n",
            " '243' '815' '481' '5' 'E927' '297' '299' '851' '864' '922' '384' 'E876'\n",
            " '225' '158' 'E937' '871' '88' 'E917' 'E812' 'V62' 'E924' '604' '233'\n",
            " 'E916' '797' 'V72' '172' '421' '852' 'E819' '972' '916' '956' '3' 'E965'\n",
            " '173' '193' '154' '347' '862' '250.3' '987' '470' '262' 'E855' '161'\n",
            " '115' '179' '910' '312' '17' '460' '265' '66' '163' 'V60' '870' 'E906'\n",
            " '514' '944' '844' '417' '152' '183' '991' '216' '385' '164' '935' '510'\n",
            " '485' '850' '250.21' 'E919' '872' '377' '195' '588' '431' '597' '933'\n",
            " '171' '884' '156' '868' '483' 'E815' '542' 'V61' '853' 'E850' 'E881'\n",
            " 'E882' 'E822' '192' '754' '327' '523' '500' 'V85' '992' '657' '684' '603'\n",
            " 'E826' '550' '913' '376' '755' '361' '186' '720' '250.31' '674' '911'\n",
            " '374' 'E813' '226' '365.44' 'E818' '146' '955' 'E894' '475' 'V13' '880'\n",
            " '930' 'E915' '381' '132' '353' '795' '893' 'V01' 'E853' '863' '540'\n",
            " 'E828' '430' '800' 'E865' '148' 'E946' '822' '879' '848' 'V86' 'V03'\n",
            " '338' '989' '388' '111' '123' '966' '757' 'E901' '141' '268' 'E892' '649'\n",
            " '702' '948' '223' '484' 'E886' '838' '928' '236' '624' '837' 'E987' 'V07'\n",
            " '841' '622' 'E912' 'E955' 'V06' 'E864' '217' '877' '391' 'E825' '952'\n",
            " '814' '7' '669' '875' 'E900' '215' '538' '980' '834' '448' '175' '49'\n",
            " '876' '230' '57' 'E854' '942' '14' '750' '370' '671' '971']\n",
            "metformin ['No' 'Steady' 'Up' 'Down']\n",
            "repaglinide ['No' 'Up' 'Steady' 'Down']\n",
            "nateglinide ['No' 'Steady' 'Down' 'Up']\n",
            "chlorpropamide ['No' 'Steady' 'Down' 'Up']\n",
            "glimepiride ['No' 'Steady' 'Down' 'Up']\n",
            "acetohexamide ['No' 'Steady']\n",
            "glipizide ['No' 'Steady' 'Up' 'Down']\n",
            "glyburide ['No' 'Steady' 'Up' 'Down']\n",
            "tolbutamide ['No' 'Steady']\n",
            "pioglitazone ['No' 'Steady' 'Up' 'Down']\n",
            "rosiglitazone ['No' 'Steady' 'Up' 'Down']\n",
            "acarbose ['No' 'Steady' 'Up' 'Down']\n",
            "miglitol ['No' 'Steady' 'Down' 'Up']\n",
            "troglitazone ['No' 'Steady']\n",
            "tolazamide ['No' 'Steady' 'Up']\n",
            "examide ['No']\n",
            "citoglipton ['No']\n",
            "insulin ['No' 'Up' 'Steady' 'Down']\n",
            "glyburide-metformin ['No' 'Steady' 'Down' 'Up']\n",
            "glipizide-metformin ['No' 'Steady']\n",
            "glimepiride-pioglitazone ['No' 'Steady']\n",
            "metformin-rosiglitazone ['No']\n",
            "metformin-pioglitazone ['No' 'Steady']\n",
            "change ['No' 'Ch']\n",
            "diabetesMed ['No' 'Yes']\n",
            "readmitted ['NO' '>30' '<30']\n"
          ]
        }
      ],
      "source": [
        "# selecting columns with data object type\n",
        "for col in df.select_dtypes(include=['object']).columns:\n",
        "  print(col, df[col].unique())"
      ]
    },
    {
      "cell_type": "code",
      "execution_count": null,
      "metadata": {
        "colab": {
          "base_uri": "https://localhost:8080/",
          "height": 320
        },
        "id": "w1lniPno-eQR",
        "outputId": "3a59361e-ca2a-4e9f-e617-621c4e425278"
      },
      "outputs": [
        {
          "output_type": "execute_result",
          "data": {
            "text/plain": [
              "        patient_nbr           age  time_in_hospital  num_lab_procedures  \\\n",
              "count  9.949300e+04  99493.000000      99493.000000        99493.000000   \n",
              "mean   5.456413e+07     65.818450          4.398420           43.072588   \n",
              "std    3.866461e+07     15.713493          2.986977           19.695858   \n",
              "min    1.350000e+02      5.000000          1.000000            1.000000   \n",
              "25%    2.346008e+07     55.000000          2.000000           31.000000   \n",
              "50%    4.598436e+07     65.000000          4.000000           44.000000   \n",
              "75%    8.779702e+07     75.000000          6.000000           57.000000   \n",
              "max    1.895026e+08     90.000000         14.000000          132.000000   \n",
              "\n",
              "       num_procedures  num_medications  number_outpatient  number_emergency  \\\n",
              "count    99493.000000     99493.000000       99493.000000      99493.000000   \n",
              "mean         1.340577        16.026605           0.373353          0.201341   \n",
              "std          1.703717         8.119790           1.276799          0.939977   \n",
              "min          0.000000         1.000000           0.000000          0.000000   \n",
              "25%          0.000000        10.000000           0.000000          0.000000   \n",
              "50%          1.000000        15.000000           0.000000          0.000000   \n",
              "75%          2.000000        20.000000           0.000000          0.000000   \n",
              "max          6.000000        81.000000          42.000000         76.000000   \n",
              "\n",
              "       number_inpatient  number_diagnoses  max_glu_serum     A1Cresult  \n",
              "count      99493.000000      99493.000000   99493.000000  99493.000000  \n",
              "mean           0.643101          7.439217       0.039922      0.197521  \n",
              "std            1.271365          1.926064       0.252026      0.564395  \n",
              "min            0.000000          1.000000       0.000000      0.000000  \n",
              "25%            0.000000          6.000000       0.000000      0.000000  \n",
              "50%            0.000000          8.000000       0.000000      0.000000  \n",
              "75%            1.000000          9.000000       0.000000      0.000000  \n",
              "max           21.000000         16.000000       2.000000      2.000000  "
            ],
            "text/html": [
              "\n",
              "  <div id=\"df-b5cb692b-f045-46ab-8426-effecbc7d6cd\" class=\"colab-df-container\">\n",
              "    <div>\n",
              "<style scoped>\n",
              "    .dataframe tbody tr th:only-of-type {\n",
              "        vertical-align: middle;\n",
              "    }\n",
              "\n",
              "    .dataframe tbody tr th {\n",
              "        vertical-align: top;\n",
              "    }\n",
              "\n",
              "    .dataframe thead th {\n",
              "        text-align: right;\n",
              "    }\n",
              "</style>\n",
              "<table border=\"1\" class=\"dataframe\">\n",
              "  <thead>\n",
              "    <tr style=\"text-align: right;\">\n",
              "      <th></th>\n",
              "      <th>patient_nbr</th>\n",
              "      <th>age</th>\n",
              "      <th>time_in_hospital</th>\n",
              "      <th>num_lab_procedures</th>\n",
              "      <th>num_procedures</th>\n",
              "      <th>num_medications</th>\n",
              "      <th>number_outpatient</th>\n",
              "      <th>number_emergency</th>\n",
              "      <th>number_inpatient</th>\n",
              "      <th>number_diagnoses</th>\n",
              "      <th>max_glu_serum</th>\n",
              "      <th>A1Cresult</th>\n",
              "    </tr>\n",
              "  </thead>\n",
              "  <tbody>\n",
              "    <tr>\n",
              "      <th>count</th>\n",
              "      <td>9.949300e+04</td>\n",
              "      <td>99493.000000</td>\n",
              "      <td>99493.000000</td>\n",
              "      <td>99493.000000</td>\n",
              "      <td>99493.000000</td>\n",
              "      <td>99493.000000</td>\n",
              "      <td>99493.000000</td>\n",
              "      <td>99493.000000</td>\n",
              "      <td>99493.000000</td>\n",
              "      <td>99493.000000</td>\n",
              "      <td>99493.000000</td>\n",
              "      <td>99493.000000</td>\n",
              "    </tr>\n",
              "    <tr>\n",
              "      <th>mean</th>\n",
              "      <td>5.456413e+07</td>\n",
              "      <td>65.818450</td>\n",
              "      <td>4.398420</td>\n",
              "      <td>43.072588</td>\n",
              "      <td>1.340577</td>\n",
              "      <td>16.026605</td>\n",
              "      <td>0.373353</td>\n",
              "      <td>0.201341</td>\n",
              "      <td>0.643101</td>\n",
              "      <td>7.439217</td>\n",
              "      <td>0.039922</td>\n",
              "      <td>0.197521</td>\n",
              "    </tr>\n",
              "    <tr>\n",
              "      <th>std</th>\n",
              "      <td>3.866461e+07</td>\n",
              "      <td>15.713493</td>\n",
              "      <td>2.986977</td>\n",
              "      <td>19.695858</td>\n",
              "      <td>1.703717</td>\n",
              "      <td>8.119790</td>\n",
              "      <td>1.276799</td>\n",
              "      <td>0.939977</td>\n",
              "      <td>1.271365</td>\n",
              "      <td>1.926064</td>\n",
              "      <td>0.252026</td>\n",
              "      <td>0.564395</td>\n",
              "    </tr>\n",
              "    <tr>\n",
              "      <th>min</th>\n",
              "      <td>1.350000e+02</td>\n",
              "      <td>5.000000</td>\n",
              "      <td>1.000000</td>\n",
              "      <td>1.000000</td>\n",
              "      <td>0.000000</td>\n",
              "      <td>1.000000</td>\n",
              "      <td>0.000000</td>\n",
              "      <td>0.000000</td>\n",
              "      <td>0.000000</td>\n",
              "      <td>1.000000</td>\n",
              "      <td>0.000000</td>\n",
              "      <td>0.000000</td>\n",
              "    </tr>\n",
              "    <tr>\n",
              "      <th>25%</th>\n",
              "      <td>2.346008e+07</td>\n",
              "      <td>55.000000</td>\n",
              "      <td>2.000000</td>\n",
              "      <td>31.000000</td>\n",
              "      <td>0.000000</td>\n",
              "      <td>10.000000</td>\n",
              "      <td>0.000000</td>\n",
              "      <td>0.000000</td>\n",
              "      <td>0.000000</td>\n",
              "      <td>6.000000</td>\n",
              "      <td>0.000000</td>\n",
              "      <td>0.000000</td>\n",
              "    </tr>\n",
              "    <tr>\n",
              "      <th>50%</th>\n",
              "      <td>4.598436e+07</td>\n",
              "      <td>65.000000</td>\n",
              "      <td>4.000000</td>\n",
              "      <td>44.000000</td>\n",
              "      <td>1.000000</td>\n",
              "      <td>15.000000</td>\n",
              "      <td>0.000000</td>\n",
              "      <td>0.000000</td>\n",
              "      <td>0.000000</td>\n",
              "      <td>8.000000</td>\n",
              "      <td>0.000000</td>\n",
              "      <td>0.000000</td>\n",
              "    </tr>\n",
              "    <tr>\n",
              "      <th>75%</th>\n",
              "      <td>8.779702e+07</td>\n",
              "      <td>75.000000</td>\n",
              "      <td>6.000000</td>\n",
              "      <td>57.000000</td>\n",
              "      <td>2.000000</td>\n",
              "      <td>20.000000</td>\n",
              "      <td>0.000000</td>\n",
              "      <td>0.000000</td>\n",
              "      <td>1.000000</td>\n",
              "      <td>9.000000</td>\n",
              "      <td>0.000000</td>\n",
              "      <td>0.000000</td>\n",
              "    </tr>\n",
              "    <tr>\n",
              "      <th>max</th>\n",
              "      <td>1.895026e+08</td>\n",
              "      <td>90.000000</td>\n",
              "      <td>14.000000</td>\n",
              "      <td>132.000000</td>\n",
              "      <td>6.000000</td>\n",
              "      <td>81.000000</td>\n",
              "      <td>42.000000</td>\n",
              "      <td>76.000000</td>\n",
              "      <td>21.000000</td>\n",
              "      <td>16.000000</td>\n",
              "      <td>2.000000</td>\n",
              "      <td>2.000000</td>\n",
              "    </tr>\n",
              "  </tbody>\n",
              "</table>\n",
              "</div>\n",
              "    <div class=\"colab-df-buttons\">\n",
              "\n",
              "  <div class=\"colab-df-container\">\n",
              "    <button class=\"colab-df-convert\" onclick=\"convertToInteractive('df-b5cb692b-f045-46ab-8426-effecbc7d6cd')\"\n",
              "            title=\"Convert this dataframe to an interactive table.\"\n",
              "            style=\"display:none;\">\n",
              "\n",
              "  <svg xmlns=\"http://www.w3.org/2000/svg\" height=\"24px\" viewBox=\"0 -960 960 960\">\n",
              "    <path d=\"M120-120v-720h720v720H120Zm60-500h600v-160H180v160Zm220 220h160v-160H400v160Zm0 220h160v-160H400v160ZM180-400h160v-160H180v160Zm440 0h160v-160H620v160ZM180-180h160v-160H180v160Zm440 0h160v-160H620v160Z\"/>\n",
              "  </svg>\n",
              "    </button>\n",
              "\n",
              "  <style>\n",
              "    .colab-df-container {\n",
              "      display:flex;\n",
              "      gap: 12px;\n",
              "    }\n",
              "\n",
              "    .colab-df-convert {\n",
              "      background-color: #E8F0FE;\n",
              "      border: none;\n",
              "      border-radius: 50%;\n",
              "      cursor: pointer;\n",
              "      display: none;\n",
              "      fill: #1967D2;\n",
              "      height: 32px;\n",
              "      padding: 0 0 0 0;\n",
              "      width: 32px;\n",
              "    }\n",
              "\n",
              "    .colab-df-convert:hover {\n",
              "      background-color: #E2EBFA;\n",
              "      box-shadow: 0px 1px 2px rgba(60, 64, 67, 0.3), 0px 1px 3px 1px rgba(60, 64, 67, 0.15);\n",
              "      fill: #174EA6;\n",
              "    }\n",
              "\n",
              "    .colab-df-buttons div {\n",
              "      margin-bottom: 4px;\n",
              "    }\n",
              "\n",
              "    [theme=dark] .colab-df-convert {\n",
              "      background-color: #3B4455;\n",
              "      fill: #D2E3FC;\n",
              "    }\n",
              "\n",
              "    [theme=dark] .colab-df-convert:hover {\n",
              "      background-color: #434B5C;\n",
              "      box-shadow: 0px 1px 3px 1px rgba(0, 0, 0, 0.15);\n",
              "      filter: drop-shadow(0px 1px 2px rgba(0, 0, 0, 0.3));\n",
              "      fill: #FFFFFF;\n",
              "    }\n",
              "  </style>\n",
              "\n",
              "    <script>\n",
              "      const buttonEl =\n",
              "        document.querySelector('#df-b5cb692b-f045-46ab-8426-effecbc7d6cd button.colab-df-convert');\n",
              "      buttonEl.style.display =\n",
              "        google.colab.kernel.accessAllowed ? 'block' : 'none';\n",
              "\n",
              "      async function convertToInteractive(key) {\n",
              "        const element = document.querySelector('#df-b5cb692b-f045-46ab-8426-effecbc7d6cd');\n",
              "        const dataTable =\n",
              "          await google.colab.kernel.invokeFunction('convertToInteractive',\n",
              "                                                    [key], {});\n",
              "        if (!dataTable) return;\n",
              "\n",
              "        const docLinkHtml = 'Like what you see? Visit the ' +\n",
              "          '<a target=\"_blank\" href=https://colab.research.google.com/notebooks/data_table.ipynb>data table notebook</a>'\n",
              "          + ' to learn more about interactive tables.';\n",
              "        element.innerHTML = '';\n",
              "        dataTable['output_type'] = 'display_data';\n",
              "        await google.colab.output.renderOutput(dataTable, element);\n",
              "        const docLink = document.createElement('div');\n",
              "        docLink.innerHTML = docLinkHtml;\n",
              "        element.appendChild(docLink);\n",
              "      }\n",
              "    </script>\n",
              "  </div>\n",
              "\n",
              "\n",
              "    <div id=\"df-d24cd9e0-87f6-4370-bc1b-d10c3dcf2d29\">\n",
              "      <button class=\"colab-df-quickchart\" onclick=\"quickchart('df-d24cd9e0-87f6-4370-bc1b-d10c3dcf2d29')\"\n",
              "                title=\"Suggest charts\"\n",
              "                style=\"display:none;\">\n",
              "\n",
              "<svg xmlns=\"http://www.w3.org/2000/svg\" height=\"24px\"viewBox=\"0 0 24 24\"\n",
              "     width=\"24px\">\n",
              "    <g>\n",
              "        <path d=\"M19 3H5c-1.1 0-2 .9-2 2v14c0 1.1.9 2 2 2h14c1.1 0 2-.9 2-2V5c0-1.1-.9-2-2-2zM9 17H7v-7h2v7zm4 0h-2V7h2v10zm4 0h-2v-4h2v4z\"/>\n",
              "    </g>\n",
              "</svg>\n",
              "      </button>\n",
              "\n",
              "<style>\n",
              "  .colab-df-quickchart {\n",
              "      --bg-color: #E8F0FE;\n",
              "      --fill-color: #1967D2;\n",
              "      --hover-bg-color: #E2EBFA;\n",
              "      --hover-fill-color: #174EA6;\n",
              "      --disabled-fill-color: #AAA;\n",
              "      --disabled-bg-color: #DDD;\n",
              "  }\n",
              "\n",
              "  [theme=dark] .colab-df-quickchart {\n",
              "      --bg-color: #3B4455;\n",
              "      --fill-color: #D2E3FC;\n",
              "      --hover-bg-color: #434B5C;\n",
              "      --hover-fill-color: #FFFFFF;\n",
              "      --disabled-bg-color: #3B4455;\n",
              "      --disabled-fill-color: #666;\n",
              "  }\n",
              "\n",
              "  .colab-df-quickchart {\n",
              "    background-color: var(--bg-color);\n",
              "    border: none;\n",
              "    border-radius: 50%;\n",
              "    cursor: pointer;\n",
              "    display: none;\n",
              "    fill: var(--fill-color);\n",
              "    height: 32px;\n",
              "    padding: 0;\n",
              "    width: 32px;\n",
              "  }\n",
              "\n",
              "  .colab-df-quickchart:hover {\n",
              "    background-color: var(--hover-bg-color);\n",
              "    box-shadow: 0 1px 2px rgba(60, 64, 67, 0.3), 0 1px 3px 1px rgba(60, 64, 67, 0.15);\n",
              "    fill: var(--button-hover-fill-color);\n",
              "  }\n",
              "\n",
              "  .colab-df-quickchart-complete:disabled,\n",
              "  .colab-df-quickchart-complete:disabled:hover {\n",
              "    background-color: var(--disabled-bg-color);\n",
              "    fill: var(--disabled-fill-color);\n",
              "    box-shadow: none;\n",
              "  }\n",
              "\n",
              "  .colab-df-spinner {\n",
              "    border: 2px solid var(--fill-color);\n",
              "    border-color: transparent;\n",
              "    border-bottom-color: var(--fill-color);\n",
              "    animation:\n",
              "      spin 1s steps(1) infinite;\n",
              "  }\n",
              "\n",
              "  @keyframes spin {\n",
              "    0% {\n",
              "      border-color: transparent;\n",
              "      border-bottom-color: var(--fill-color);\n",
              "      border-left-color: var(--fill-color);\n",
              "    }\n",
              "    20% {\n",
              "      border-color: transparent;\n",
              "      border-left-color: var(--fill-color);\n",
              "      border-top-color: var(--fill-color);\n",
              "    }\n",
              "    30% {\n",
              "      border-color: transparent;\n",
              "      border-left-color: var(--fill-color);\n",
              "      border-top-color: var(--fill-color);\n",
              "      border-right-color: var(--fill-color);\n",
              "    }\n",
              "    40% {\n",
              "      border-color: transparent;\n",
              "      border-right-color: var(--fill-color);\n",
              "      border-top-color: var(--fill-color);\n",
              "    }\n",
              "    60% {\n",
              "      border-color: transparent;\n",
              "      border-right-color: var(--fill-color);\n",
              "    }\n",
              "    80% {\n",
              "      border-color: transparent;\n",
              "      border-right-color: var(--fill-color);\n",
              "      border-bottom-color: var(--fill-color);\n",
              "    }\n",
              "    90% {\n",
              "      border-color: transparent;\n",
              "      border-bottom-color: var(--fill-color);\n",
              "    }\n",
              "  }\n",
              "</style>\n",
              "\n",
              "      <script>\n",
              "        async function quickchart(key) {\n",
              "          const quickchartButtonEl =\n",
              "            document.querySelector('#' + key + ' button');\n",
              "          quickchartButtonEl.disabled = true;  // To prevent multiple clicks.\n",
              "          quickchartButtonEl.classList.add('colab-df-spinner');\n",
              "          try {\n",
              "            const charts = await google.colab.kernel.invokeFunction(\n",
              "                'suggestCharts', [key], {});\n",
              "          } catch (error) {\n",
              "            console.error('Error during call to suggestCharts:', error);\n",
              "          }\n",
              "          quickchartButtonEl.classList.remove('colab-df-spinner');\n",
              "          quickchartButtonEl.classList.add('colab-df-quickchart-complete');\n",
              "        }\n",
              "        (() => {\n",
              "          let quickchartButtonEl =\n",
              "            document.querySelector('#df-d24cd9e0-87f6-4370-bc1b-d10c3dcf2d29 button');\n",
              "          quickchartButtonEl.style.display =\n",
              "            google.colab.kernel.accessAllowed ? 'block' : 'none';\n",
              "        })();\n",
              "      </script>\n",
              "    </div>\n",
              "\n",
              "    </div>\n",
              "  </div>\n"
            ],
            "application/vnd.google.colaboratory.intrinsic+json": {
              "type": "dataframe",
              "summary": "{\n  \"name\": \"df\",\n  \"rows\": 8,\n  \"fields\": [\n    {\n      \"column\": \"patient_nbr\",\n      \"properties\": {\n        \"dtype\": \"number\",\n        \"std\": 61584706.44429419,\n        \"min\": 135.0,\n        \"max\": 189502619.0,\n        \"num_unique_values\": 8,\n        \"samples\": [\n          54564131.46287678,\n          45984357.0,\n          99493.0\n        ],\n        \"semantic_type\": \"\",\n        \"description\": \"\"\n      }\n    },\n    {\n      \"column\": \"age\",\n      \"properties\": {\n        \"dtype\": \"number\",\n        \"std\": 35157.3341982092,\n        \"min\": 5.0,\n        \"max\": 99493.0,\n        \"num_unique_values\": 8,\n        \"samples\": [\n          65.81844953916355,\n          65.0,\n          99493.0\n        ],\n        \"semantic_type\": \"\",\n        \"description\": \"\"\n      }\n    },\n    {\n      \"column\": \"time_in_hospital\",\n      \"properties\": {\n        \"dtype\": \"number\",\n        \"std\": 35174.35099366486,\n        \"min\": 1.0,\n        \"max\": 99493.0,\n        \"num_unique_values\": 8,\n        \"samples\": [\n          4.398419989345984,\n          4.0,\n          99493.0\n        ],\n        \"semantic_type\": \"\",\n        \"description\": \"\"\n      }\n    },\n    {\n      \"column\": \"num_lab_procedures\",\n      \"properties\": {\n        \"dtype\": \"number\",\n        \"std\": 35159.55394756232,\n        \"min\": 1.0,\n        \"max\": 99493.0,\n        \"num_unique_values\": 8,\n        \"samples\": [\n          43.072588021267826,\n          44.0,\n          99493.0\n        ],\n        \"semantic_type\": \"\",\n        \"description\": \"\"\n      }\n    },\n    {\n      \"column\": \"num_procedures\",\n      \"properties\": {\n        \"dtype\": \"number\",\n        \"std\": 35175.47921232504,\n        \"min\": 0.0,\n        \"max\": 99493.0,\n        \"num_unique_values\": 7,\n        \"samples\": [\n          99493.0,\n          1.3405767239906325,\n          2.0\n        ],\n        \"semantic_type\": \"\",\n        \"description\": \"\"\n      }\n    },\n    {\n      \"column\": \"num_medications\",\n      \"properties\": {\n        \"dtype\": \"number\",\n        \"std\": 35168.46227177493,\n        \"min\": 1.0,\n        \"max\": 99493.0,\n        \"num_unique_values\": 8,\n        \"samples\": [\n          16.026604886775953,\n          15.0,\n          99493.0\n        ],\n        \"semantic_type\": \"\",\n        \"description\": \"\"\n      }\n    },\n    {\n      \"column\": \"number_outpatient\",\n      \"properties\": {\n        \"dtype\": \"number\",\n        \"std\": 35173.885857744615,\n        \"min\": 0.0,\n        \"max\": 99493.0,\n        \"num_unique_values\": 5,\n        \"samples\": [\n          0.3733528991989386,\n          42.0,\n          1.2767990556363238\n        ],\n        \"semantic_type\": \"\",\n        \"description\": \"\"\n      }\n    },\n    {\n      \"column\": \"number_emergency\",\n      \"properties\": {\n        \"dtype\": \"number\",\n        \"std\": 35172.20127089013,\n        \"min\": 0.0,\n        \"max\": 99493.0,\n        \"num_unique_values\": 5,\n        \"samples\": [\n          0.20134079784507453,\n          76.0,\n          0.9399765290806141\n        ],\n        \"semantic_type\": \"\",\n        \"description\": \"\"\n      }\n    },\n    {\n      \"column\": \"number_inpatient\",\n      \"properties\": {\n        \"dtype\": \"number\",\n        \"std\": 35174.880363143755,\n        \"min\": 0.0,\n        \"max\": 99493.0,\n        \"num_unique_values\": 6,\n        \"samples\": [\n          99493.0,\n          0.6431005196345472,\n          21.0\n        ],\n        \"semantic_type\": \"\",\n        \"description\": \"\"\n      }\n    },\n    {\n      \"column\": \"number_diagnoses\",\n      \"properties\": {\n        \"dtype\": \"number\",\n        \"std\": 35173.59446951685,\n        \"min\": 1.0,\n        \"max\": 99493.0,\n        \"num_unique_values\": 8,\n        \"samples\": [\n          7.4392168293246765,\n          8.0,\n          99493.0\n        ],\n        \"semantic_type\": \"\",\n        \"description\": \"\"\n      }\n    },\n    {\n      \"column\": \"max_glu_serum\",\n      \"properties\": {\n        \"dtype\": \"number\",\n        \"std\": 35175.97173616734,\n        \"min\": 0.0,\n        \"max\": 99493.0,\n        \"num_unique_values\": 5,\n        \"samples\": [\n          0.03992240660146945,\n          2.0,\n          0.25202568937771663\n        ],\n        \"semantic_type\": \"\",\n        \"description\": \"\"\n      }\n    },\n    {\n      \"column\": \"A1Cresult\",\n      \"properties\": {\n        \"dtype\": \"number\",\n        \"std\": 35175.94799910619,\n        \"min\": 0.0,\n        \"max\": 99493.0,\n        \"num_unique_values\": 5,\n        \"samples\": [\n          0.1975214336687003,\n          2.0,\n          0.5643946115493459\n        ],\n        \"semantic_type\": \"\",\n        \"description\": \"\"\n      }\n    }\n  ]\n}"
            }
          },
          "metadata": {},
          "execution_count": 39
        }
      ],
      "source": [
        "df.describe()"
      ]
    },
    {
      "cell_type": "markdown",
      "metadata": {
        "id": "63iVe3P3FX8x"
      },
      "source": [
        "# From data exploration, we found:\n",
        "\n",
        "**1- Feature [metformin-rosiglitazone] = 'NO' by 100%**\n",
        "\n",
        "**2- Feature [examide] = 'NO' by 100%**\n",
        "\n",
        "**3- Feature [citoglipton] = 'NO' by 100%**\n",
        "\n",
        "**So, we will drop them because they will not affect the model predictions.**"
      ]
    },
    {
      "cell_type": "code",
      "execution_count": null,
      "metadata": {
        "id": "X5c2f73qFU8B"
      },
      "outputs": [],
      "source": [
        "df.drop('metformin-rosiglitazone', axis=1, inplace=True)\n",
        "df.drop('examide', axis=1, inplace=True)\n",
        "df.drop('citoglipton', axis=1, inplace=True)"
      ]
    },
    {
      "cell_type": "code",
      "execution_count": null,
      "metadata": {
        "colab": {
          "base_uri": "https://localhost:8080/"
        },
        "id": "PyaqoY8TCdDI",
        "outputId": "f03ba903-ecf4-4e33-fd40-f91c9f51e329"
      },
      "outputs": [
        {
          "output_type": "stream",
          "name": "stdout",
          "text": [
            "race\n",
            "Caucasian          76099\n",
            "AfricanAmerican    19210\n",
            "Hispanic            2037\n",
            "Other               1506\n",
            "Asian                641\n",
            "Name: count, dtype: int64\n",
            "gender\n",
            "Female             53575\n",
            "Male               45917\n",
            "Unknown/Invalid        1\n",
            "Name: count, dtype: int64\n",
            "medical_specialty\n",
            "other               67834\n",
            "InternalMedicine    14197\n",
            "family               7271\n",
            "Cardiology           5254\n",
            "surgery              4937\n",
            "Name: count, dtype: int64\n",
            "diag_1\n",
            "428    6739\n",
            "414    6407\n",
            "786    3938\n",
            "410    3518\n",
            "486    3425\n",
            "       ... \n",
            "391       1\n",
            "690       1\n",
            "10        1\n",
            "52        1\n",
            "V51       1\n",
            "Name: count, Length: 714, dtype: int64\n",
            "diag_2\n",
            "276     6638\n",
            "428     6522\n",
            "250     5879\n",
            "427     4933\n",
            "401     3641\n",
            "        ... \n",
            "270        1\n",
            "863        1\n",
            "523        1\n",
            "E945       1\n",
            "180        1\n",
            "Name: count, Length: 745, dtype: int64\n",
            "diag_3\n",
            "250    11227\n",
            "401     8098\n",
            "276     5100\n",
            "428     4496\n",
            "427     3871\n",
            "       ...  \n",
            "7          1\n",
            "669        1\n",
            "875        1\n",
            "671        1\n",
            "971        1\n",
            "Name: count, Length: 786, dtype: int64\n",
            "metformin\n",
            "No        79972\n",
            "Steady    17920\n",
            "Up         1039\n",
            "Down        562\n",
            "Name: count, dtype: int64\n",
            "repaglinide\n",
            "No        97964\n",
            "Steady     1375\n",
            "Up          109\n",
            "Down         45\n",
            "Name: count, dtype: int64\n",
            "nateglinide\n",
            "No        98797\n",
            "Steady      662\n",
            "Up           23\n",
            "Down         11\n",
            "Name: count, dtype: int64\n",
            "chlorpropamide\n",
            "No        99408\n",
            "Steady       78\n",
            "Up            6\n",
            "Down          1\n",
            "Name: count, dtype: int64\n",
            "glimepiride\n",
            "No        94459\n",
            "Steady     4527\n",
            "Up          321\n",
            "Down        186\n",
            "Name: count, dtype: int64\n",
            "acetohexamide\n",
            "No        99492\n",
            "Steady        1\n",
            "Name: count, dtype: int64\n",
            "glipizide\n",
            "No        87093\n",
            "Steady    11102\n",
            "Up          754\n",
            "Down        544\n",
            "Name: count, dtype: int64\n",
            "glyburide\n",
            "No        89114\n",
            "Steady     9039\n",
            "Up          794\n",
            "Down        546\n",
            "Name: count, dtype: int64\n",
            "tolbutamide\n",
            "No        99471\n",
            "Steady       22\n",
            "Name: count, dtype: int64\n",
            "pioglitazone\n",
            "No        92316\n",
            "Steady     6830\n",
            "Up          230\n",
            "Down        117\n",
            "Name: count, dtype: int64\n",
            "rosiglitazone\n",
            "No        93266\n",
            "Steady     5968\n",
            "Up          175\n",
            "Down         84\n",
            "Name: count, dtype: int64\n",
            "acarbose\n",
            "No        99191\n",
            "Steady      289\n",
            "Up           10\n",
            "Down          3\n",
            "Name: count, dtype: int64\n",
            "miglitol\n",
            "No        99455\n",
            "Steady       31\n",
            "Down          5\n",
            "Up            2\n",
            "Name: count, dtype: int64\n",
            "troglitazone\n",
            "No        99490\n",
            "Steady        3\n",
            "Name: count, dtype: int64\n",
            "tolazamide\n",
            "No        99454\n",
            "Steady       38\n",
            "Up            1\n",
            "Name: count, dtype: int64\n",
            "insulin\n",
            "No        46496\n",
            "Steady    29902\n",
            "Down      12039\n",
            "Up        11056\n",
            "Name: count, dtype: int64\n",
            "glyburide-metformin\n",
            "No        98813\n",
            "Steady      671\n",
            "Up            6\n",
            "Down          3\n",
            "Name: count, dtype: int64\n",
            "glipizide-metformin\n",
            "No        99480\n",
            "Steady       13\n",
            "Name: count, dtype: int64\n",
            "glimepiride-pioglitazone\n",
            "No        99492\n",
            "Steady        1\n",
            "Name: count, dtype: int64\n",
            "metformin-pioglitazone\n",
            "No        99492\n",
            "Steady        1\n",
            "Name: count, dtype: int64\n",
            "change\n",
            "No    53582\n",
            "Ch    45911\n",
            "Name: count, dtype: int64\n",
            "diabetesMed\n",
            "Yes    76492\n",
            "No     23001\n",
            "Name: count, dtype: int64\n",
            "readmitted\n",
            "NO     53317\n",
            ">30    35007\n",
            "<30    11169\n",
            "Name: count, dtype: int64\n"
          ]
        }
      ],
      "source": [
        "# value count of columns with data object type\n",
        "for col in df.select_dtypes(include=['object']).columns:\n",
        "  print(df[col].value_counts())"
      ]
    },
    {
      "cell_type": "markdown",
      "metadata": {
        "id": "AblNV0INMgLB"
      },
      "source": [
        "# Data Visualization\n",
        "\n",
        "**Gender vs. Readmitted**"
      ]
    },
    {
      "cell_type": "code",
      "execution_count": null,
      "metadata": {
        "colab": {
          "base_uri": "https://localhost:8080/",
          "height": 449
        },
        "id": "Mckob0U1-tI3",
        "outputId": "f2239181-1efe-4737-ca91-c9be00a70126"
      },
      "outputs": [
        {
          "output_type": "display_data",
          "data": {
            "text/plain": [
              "<Figure size 640x480 with 1 Axes>"
            ],
            "image/png": "[encoded data removed]"
          },
          "metadata": {}
        }
      ],
      "source": [
        "# visualization Gender vs. Readmitted\n",
        "sns.countplot(x='gender', hue='readmitted', data=df)\n",
        "plt.show()\n"
      ]
    },
    {
      "cell_type": "markdown",
      "metadata": {
        "id": "8kLKlzoQNzZ-"
      },
      "source": [
        "**Race vs. Readmitted**"
      ]
    },
    {
      "cell_type": "code",
      "execution_count": null,
      "metadata": {
        "colab": {
          "base_uri": "https://localhost:8080/",
          "height": 449
        },
        "id": "VJYuGWdVIVqL",
        "outputId": "4c22ae62-e522-4af3-c2b6-7d55cc4e5d21"
      },
      "outputs": [
        {
          "output_type": "display_data",
          "data": {
            "text/plain": [
              "<Figure size 640x480 with 1 Axes>"
            ],
            "image/png": "[encoded data removed]"
          },
          "metadata": {}
        }
      ],
      "source": [
        "sns.countplot(x='race', hue='readmitted', data=df)\n",
        "plt.show()"
      ]
    },
    {
      "cell_type": "markdown",
      "metadata": {
        "id": "OSoE2k1K_laD"
      },
      "source": [
        "**Readmitted Pie Chart**"
      ]
    },
    {
      "cell_type": "code",
      "execution_count": null,
      "metadata": {
        "colab": {
          "base_uri": "https://localhost:8080/",
          "height": 499
        },
        "id": "EXpfp88a_ZOf",
        "outputId": "f8a3071c-55d3-43cf-e811-a269ccf173c1"
      },
      "outputs": [
        {
          "output_type": "display_data",
          "data": {
            "text/plain": [
              "<Figure size 600x600 with 1 Axes>"
            ],
            "image/png": "[encoded data removed]"
          },
          "metadata": {}
        }
      ],
      "source": [
        "# pie chart of readmitted label\n",
        "df['readmitted'].value_counts().plot(kind='pie', autopct='%1.1f%%', figsize=(6, 6))\n",
        "plt.show()"
      ]
    },
    {
      "cell_type": "markdown",
      "metadata": {
        "id": "KC3L89HrErmP"
      },
      "source": [
        "# Data Wrangling"
      ]
    },
    {
      "cell_type": "markdown",
      "metadata": {
        "id": "frQGAl0YE0zb"
      },
      "source": [
        "## Feature Transformation"
      ]
    },
    {
      "cell_type": "code",
      "execution_count": null,
      "metadata": {
        "id": "eo2_5QZ_AN6D"
      },
      "outputs": [],
      "source": [
        "'''\n",
        "race\n",
        "Caucasian          76099\n",
        "AfricanAmerican    19210\n",
        "Hispanic            2037\n",
        "Other               1506\n",
        "Asian                641\n",
        "'''\n",
        "\n",
        "race_mapping = {\n",
        "    'Caucasian': 'Caucasian',\n",
        "    'AfricanAmerican': 'AfricanAmerican',\n",
        "    'Hispanic': 'Other',\n",
        "    'Other': 'Other',\n",
        "    'Asian': 'Other'\n",
        "}\n",
        "\n",
        "df['race'] = df['race'].map(race_mapping)"
      ]
    },
    {
      "cell_type": "code",
      "execution_count": null,
      "metadata": {
        "id": "kCenRrG5Fayk"
      },
      "outputs": [],
      "source": [
        "'''\n",
        "gender\n",
        "Female             53575\n",
        "Male               45917\n",
        "Unknown/Invalid        1\n",
        "'''\n",
        "df.drop(df[df['gender'] == 'Unknown/Invalid'].index, axis=0, inplace=True)\n",
        "\n"
      ]
    },
    {
      "cell_type": "code",
      "execution_count": null,
      "metadata": {
        "colab": {
          "base_uri": "https://localhost:8080/"
        },
        "id": "voFvoe-4FkV9",
        "outputId": "049362e8-931f-46cc-c0ce-91b4e321a41c"
      },
      "outputs": [
        {
          "output_type": "stream",
          "name": "stdout",
          "text": [
            "Diabetes\n",
            "Circulatory\n",
            "Other\n",
            "Other\n",
            "Other\n"
          ]
        }
      ],
      "source": [
        "'''\n",
        "Values of the primary diagnosis diag_1 in the final dataset. In the analysis, groups that covered less than 3.5% of\n",
        "encounters were grouped into “other” category.\n",
        "I will re-group the data to main groups\n",
        "'''\n",
        "\n",
        "def map_icd9_to_group(icd9_code):\n",
        "    \"\"\"\n",
        "    Maps ICD-9 code to its corresponding group name based on predefined ranges.\n",
        "\n",
        "    Args:\n",
        "        icd9_code (str or float or int): The ICD-9 code to be mapped\n",
        "\n",
        "    Returns:\n",
        "        str: The group name ('Circulatory', 'Respiratory', etc. or 'Other' if not in main groups)\n",
        "    \"\"\"\n",
        "    # Convert to string and handle decimal points (like 250.xx becomes '250')\n",
        "    code_str = str(icd9_code).split('.')[0]\n",
        "\n",
        "    try:\n",
        "        code_num = int(code_str)\n",
        "    except ValueError:\n",
        "        # Handle cases like 'E-V' or other non-numeric codes\n",
        "        if str(icd9_code).upper().startswith('E') or str(icd9_code).upper().startswith('V'):\n",
        "            return 'Other'\n",
        "        return 'Other'\n",
        "\n",
        "    # Define the ranges for each group\n",
        "    group_ranges = {\n",
        "        'Circulatory': [(390, 459), (785, 785)],\n",
        "        'Respiratory': [(460, 519), (786, 786)],\n",
        "        'Digestive': [(520, 579), (787, 787)],\n",
        "        'Diabetes': [(250, 250)],  # 250.xx\n",
        "        'Injury': [(800, 999)],\n",
        "        'Musculoskeletal': [(710, 739)],\n",
        "        'Genitourinary': [(580, 629), (788, 788)],\n",
        "        'Neoplasms': [(140, 239)],\n",
        "        'Other': [\n",
        "            (780, 781), (784, 784), (790, 799),  # Other symptoms\n",
        "            (240, 279),  # Endocrine (excluding 250 which is Diabetes)\n",
        "            (680, 709), (782, 782),  # Skin\n",
        "            (1, 139),  # Infectious\n",
        "            (290, 319),  # Mental\n",
        "            (280, 289),  # Blood\n",
        "            (320, 359),  # Nervous system\n",
        "            (630, 679),  # Pregnancy\n",
        "            (360, 389),  # Sense organs\n",
        "            (740, 759)  # Congenital anomalies\n",
        "        ]\n",
        "    }\n",
        "\n",
        "    # Check each group's ranges\n",
        "    for group, ranges in group_ranges.items():\n",
        "        for (start, end) in ranges:\n",
        "            if start <= code_num <= end:\n",
        "                # Special case for Diabetes - only 250.xx\n",
        "                if group == 'Diabetes' and '.' in str(icd9_code) and not str(icd9_code).startswith('250.'):\n",
        "                    continue\n",
        "                # Special case for Endocrine - exclude 250\n",
        "                if group == 'Other' and any(s <= code_num <= e for (s, e) in [(240, 279)]):\n",
        "                    if code_num == 250:\n",
        "                        continue\n",
        "                return group\n",
        "\n",
        "    return 'Other'\n",
        "\n",
        "# Example usage:\n",
        "print(map_icd9_to_group('250.10'))  # Diabetes\n",
        "print(map_icd9_to_group('454.9'))   # Circulatory\n",
        "print(map_icd9_to_group('740.0'))   # Other (Congenital anomalies)\n",
        "print(map_icd9_to_group('E123'))    # Other\n",
        "print(map_icd9_to_group('V45'))     # Other\n"
      ]
    },
    {
      "cell_type": "code",
      "execution_count": null,
      "metadata": {
        "id": "GhbgjuFbQ-3l"
      },
      "outputs": [],
      "source": [
        "df['diag_1'] = df['diag_1'].apply(map_icd9_to_group)"
      ]
    },
    {
      "cell_type": "code",
      "execution_count": null,
      "metadata": {
        "colab": {
          "base_uri": "https://localhost:8080/",
          "height": 398
        },
        "id": "JQM45yrnROn3",
        "outputId": "a23b08d5-76b1-4694-f47c-de449fbc2008"
      },
      "outputs": [
        {
          "output_type": "execute_result",
          "data": {
            "text/plain": [
              "diag_1\n",
              "Circulatory        29753\n",
              "Other              17745\n",
              "Respiratory        14109\n",
              "Digestive           9297\n",
              "Diabetes            8568\n",
              "Injury              6815\n",
              "Genitourinary       5026\n",
              "Musculoskeletal     4826\n",
              "Neoplasms           3353\n",
              "Name: count, dtype: int64"
            ],
            "text/html": [
              "<div>\n",
              "<style scoped>\n",
              "    .dataframe tbody tr th:only-of-type {\n",
              "        vertical-align: middle;\n",
              "    }\n",
              "\n",
              "    .dataframe tbody tr th {\n",
              "        vertical-align: top;\n",
              "    }\n",
              "\n",
              "    .dataframe thead th {\n",
              "        text-align: right;\n",
              "    }\n",
              "</style>\n",
              "<table border=\"1\" class=\"dataframe\">\n",
              "  <thead>\n",
              "    <tr style=\"text-align: right;\">\n",
              "      <th></th>\n",
              "      <th>count</th>\n",
              "    </tr>\n",
              "    <tr>\n",
              "      <th>diag_1</th>\n",
              "      <th></th>\n",
              "    </tr>\n",
              "  </thead>\n",
              "  <tbody>\n",
              "    <tr>\n",
              "      <th>Circulatory</th>\n",
              "      <td>29753</td>\n",
              "    </tr>\n",
              "    <tr>\n",
              "      <th>Other</th>\n",
              "      <td>17745</td>\n",
              "    </tr>\n",
              "    <tr>\n",
              "      <th>Respiratory</th>\n",
              "      <td>14109</td>\n",
              "    </tr>\n",
              "    <tr>\n",
              "      <th>Digestive</th>\n",
              "      <td>9297</td>\n",
              "    </tr>\n",
              "    <tr>\n",
              "      <th>Diabetes</th>\n",
              "      <td>8568</td>\n",
              "    </tr>\n",
              "    <tr>\n",
              "      <th>Injury</th>\n",
              "      <td>6815</td>\n",
              "    </tr>\n",
              "    <tr>\n",
              "      <th>Genitourinary</th>\n",
              "      <td>5026</td>\n",
              "    </tr>\n",
              "    <tr>\n",
              "      <th>Musculoskeletal</th>\n",
              "      <td>4826</td>\n",
              "    </tr>\n",
              "    <tr>\n",
              "      <th>Neoplasms</th>\n",
              "      <td>3353</td>\n",
              "    </tr>\n",
              "  </tbody>\n",
              "</table>\n",
              "</div><br><label><b>dtype:</b> int64</label>"
            ]
          },
          "metadata": {},
          "execution_count": 50
        }
      ],
      "source": [
        "df['diag_1'].value_counts()"
      ]
    },
    {
      "cell_type": "code",
      "execution_count": null,
      "metadata": {
        "id": "1OvLOb_aRRnZ"
      },
      "outputs": [],
      "source": [
        "df.drop(columns=['diag_2', 'diag_3'], inplace=True, axis=1)"
      ]
    },
    {
      "cell_type": "code",
      "execution_count": null,
      "metadata": {
        "id": "Jn4pTleMRbs4"
      },
      "outputs": [],
      "source": [
        "'''\n",
        "metformin , repaglinide, nateglinide, glimepiride,glipizide,glyburide,pioglitazone\n",
        ", rosiglitazone,glyburide-metformin  : map to 0,1\n",
        "\n",
        "chlorpropamide,acetohexamide,acarbose,miglitol,troglitazone,tolazamide\n",
        ", glipizide-metformin,glimepiride-pioglitazone, metformin-pioglitazone:\n",
        " remove (less than 1%), very low variance\n",
        "'''\n",
        "\n",
        "map_list = ['metformin', 'repaglinide', 'nateglinide',\n",
        " 'glimepiride', 'glipizide', 'glyburide', 'pioglitazone', 'rosiglitazone', 'glyburide-metformin']\n",
        "\n",
        "drugs_map = {\n",
        "    'No' : 0,\n",
        "    'Up' : 1,\n",
        "    'Down' : 1,\n",
        "    'Steady' : 1\n",
        "}\n",
        "\n",
        "for col in map_list:\n",
        "  df[col] = df[col].map(drugs_map)\n"
      ]
    },
    {
      "cell_type": "code",
      "execution_count": null,
      "metadata": {
        "id": "SY1XwQC8T78s"
      },
      "outputs": [],
      "source": [
        "drop_list = ['chlorpropamide', 'acetohexamide', 'acarbose', 'miglitol', 'troglitazone', 'tolazamide', 'glipizide-metformin',\n",
        "             'glimepiride-pioglitazone', 'metformin-pioglitazone']\n",
        "\n",
        "for col in drop_list:\n",
        "  df.drop(col, axis=1, inplace=True)"
      ]
    },
    {
      "cell_type": "code",
      "execution_count": null,
      "metadata": {
        "colab": {
          "base_uri": "https://localhost:8080/"
        },
        "id": "0y3KyxchUK0M",
        "outputId": "b457eddc-469b-45dd-e25a-8461c01f7d53"
      },
      "outputs": [
        {
          "output_type": "stream",
          "name": "stdout",
          "text": [
            "<class 'pandas.core.frame.DataFrame'>\n",
            "Index: 99492 entries, 0 to 99492\n",
            "Data columns (total 30 columns):\n",
            " #   Column               Non-Null Count  Dtype \n",
            "---  ------               --------------  ----- \n",
            " 0   patient_nbr          99492 non-null  int64 \n",
            " 1   race                 99492 non-null  object\n",
            " 2   gender               99492 non-null  object\n",
            " 3   age                  99492 non-null  int64 \n",
            " 4   time_in_hospital     99492 non-null  int64 \n",
            " 5   medical_specialty    99492 non-null  object\n",
            " 6   num_lab_procedures   99492 non-null  int64 \n",
            " 7   num_procedures       99492 non-null  int64 \n",
            " 8   num_medications      99492 non-null  int64 \n",
            " 9   number_outpatient    99492 non-null  int64 \n",
            " 10  number_emergency     99492 non-null  int64 \n",
            " 11  number_inpatient     99492 non-null  int64 \n",
            " 12  diag_1               99492 non-null  object\n",
            " 13  number_diagnoses     99492 non-null  int64 \n",
            " 14  max_glu_serum        99492 non-null  int64 \n",
            " 15  A1Cresult            99492 non-null  int64 \n",
            " 16  metformin            99492 non-null  int64 \n",
            " 17  repaglinide          99492 non-null  int64 \n",
            " 18  nateglinide          99492 non-null  int64 \n",
            " 19  glimepiride          99492 non-null  int64 \n",
            " 20  glipizide            99492 non-null  int64 \n",
            " 21  glyburide            99492 non-null  int64 \n",
            " 22  tolbutamide          99492 non-null  object\n",
            " 23  pioglitazone         99492 non-null  int64 \n",
            " 24  rosiglitazone        99492 non-null  int64 \n",
            " 25  insulin              99492 non-null  object\n",
            " 26  glyburide-metformin  99492 non-null  int64 \n",
            " 27  change               99492 non-null  object\n",
            " 28  diabetesMed          99492 non-null  object\n",
            " 29  readmitted           99492 non-null  object\n",
            "dtypes: int64(21), object(9)\n",
            "memory usage: 23.5+ MB\n"
          ]
        }
      ],
      "source": [
        "df.info()"
      ]
    },
    {
      "cell_type": "code",
      "execution_count": null,
      "metadata": {
        "colab": {
          "base_uri": "https://localhost:8080/"
        },
        "id": "Ikk_mJvzUvD5",
        "outputId": "25822b2d-6a78-4313-e9dd-d8688ac8a6a2"
      },
      "outputs": [
        {
          "output_type": "execute_result",
          "data": {
            "text/plain": [
              "array(['Female', 'Male'], dtype=object)"
            ]
          },
          "metadata": {},
          "execution_count": 55
        }
      ],
      "source": [
        "df.gender.unique()"
      ]
    },
    {
      "cell_type": "code",
      "execution_count": null,
      "metadata": {
        "id": "EDavLJqTUMMk"
      },
      "outputs": [],
      "source": [
        "df['gender'] = df['gender'].apply(lambda x: 0 if x.lower().strip() == 'male' else 1 if x.lower().strip() == 'female' else None)"
      ]
    },
    {
      "cell_type": "code",
      "execution_count": null,
      "metadata": {
        "colab": {
          "base_uri": "https://localhost:8080/"
        },
        "id": "XGnn2NpiU3vO",
        "outputId": "04eba1ac-a9f7-45f3-900b-e409dd834ed3"
      },
      "outputs": [
        {
          "output_type": "execute_result",
          "data": {
            "text/plain": [
              "array(['Caucasian', 'AfricanAmerican', 'Other'], dtype=object)"
            ]
          },
          "metadata": {},
          "execution_count": 57
        }
      ],
      "source": [
        "df.race.unique()"
      ]
    },
    {
      "cell_type": "markdown",
      "source": [
        "# Data Checkpoint #1"
      ],
      "metadata": {
        "id": "aivFEOTwatXx"
      }
    },
    {
      "cell_type": "code",
      "execution_count": null,
      "metadata": {
        "id": "bB8Igj3AU7F1"
      },
      "outputs": [],
      "source": [
        "df.to_csv('diabetic_preprocessed_f.csv', index=False)"
      ]
    },
    {
      "cell_type": "markdown",
      "source": [
        "# Data Preprocessing"
      ],
      "metadata": {
        "id": "uVgGeX_QxYaA"
      }
    },
    {
      "cell_type": "code",
      "execution_count": null,
      "metadata": {
        "colab": {
          "base_uri": "https://localhost:8080/",
          "height": 273
        },
        "id": "eukPzPOz5PE0",
        "outputId": "48946ce7-feb0-4138-8f86-45e308733777"
      },
      "outputs": [
        {
          "output_type": "execute_result",
          "data": {
            "text/plain": [
              "   patient_nbr             race  gender  age  time_in_hospital  \\\n",
              "0      8222157        Caucasian       1    5                 1   \n",
              "1     55629189        Caucasian       1   15                 3   \n",
              "2     86047875  AfricanAmerican       1   25                 2   \n",
              "3     82442376        Caucasian       0   35                 2   \n",
              "4     42519267        Caucasian       0   45                 1   \n",
              "\n",
              "  medical_specialty  num_lab_procedures  num_procedures  num_medications  \\\n",
              "0             other                  41               0                1   \n",
              "1             other                  59               0               18   \n",
              "2             other                  11               5               13   \n",
              "3             other                  44               1               16   \n",
              "4             other                  51               0                8   \n",
              "\n",
              "   number_outpatient  ...  glipizide  glyburide tolbutamide  pioglitazone  \\\n",
              "0                  0  ...          0          0          No             0   \n",
              "1                  0  ...          0          0          No             0   \n",
              "2                  2  ...          1          0          No             0   \n",
              "3                  0  ...          0          0          No             0   \n",
              "4                  0  ...          1          0          No             0   \n",
              "\n",
              "   rosiglitazone  insulin  glyburide-metformin  change  diabetesMed  \\\n",
              "0              0       No                    0      No           No   \n",
              "1              0       Up                    0      Ch          Yes   \n",
              "2              0       No                    0      No          Yes   \n",
              "3              0       Up                    0      Ch          Yes   \n",
              "4              0   Steady                    0      Ch          Yes   \n",
              "\n",
              "   readmitted  \n",
              "0          NO  \n",
              "1         >30  \n",
              "2          NO  \n",
              "3          NO  \n",
              "4          NO  \n",
              "\n",
              "[5 rows x 30 columns]"
            ],
            "text/html": [
              "\n",
              "  <div id=\"df-1804093b-0576-48af-9270-5fcc3956032d\" class=\"colab-df-container\">\n",
              "    <div>\n",
              "<style scoped>\n",
              "    .dataframe tbody tr th:only-of-type {\n",
              "        vertical-align: middle;\n",
              "    }\n",
              "\n",
              "    .dataframe tbody tr th {\n",
              "        vertical-align: top;\n",
              "    }\n",
              "\n",
              "    .dataframe thead th {\n",
              "        text-align: right;\n",
              "    }\n",
              "</style>\n",
              "<table border=\"1\" class=\"dataframe\">\n",
              "  <thead>\n",
              "    <tr style=\"text-align: right;\">\n",
              "      <th></th>\n",
              "      <th>patient_nbr</th>\n",
              "      <th>race</th>\n",
              "      <th>gender</th>\n",
              "      <th>age</th>\n",
              "      <th>time_in_hospital</th>\n",
              "      <th>medical_specialty</th>\n",
              "      <th>num_lab_procedures</th>\n",
              "      <th>num_procedures</th>\n",
              "      <th>num_medications</th>\n",
              "      <th>number_outpatient</th>\n",
              "      <th>...</th>\n",
              "      <th>glipizide</th>\n",
              "      <th>glyburide</th>\n",
              "      <th>tolbutamide</th>\n",
              "      <th>pioglitazone</th>\n",
              "      <th>rosiglitazone</th>\n",
              "      <th>insulin</th>\n",
              "      <th>glyburide-metformin</th>\n",
              "      <th>change</th>\n",
              "      <th>diabetesMed</th>\n",
              "      <th>readmitted</th>\n",
              "    </tr>\n",
              "  </thead>\n",
              "  <tbody>\n",
              "    <tr>\n",
              "      <th>0</th>\n",
              "      <td>8222157</td>\n",
              "      <td>Caucasian</td>\n",
              "      <td>1</td>\n",
              "      <td>5</td>\n",
              "      <td>1</td>\n",
              "      <td>other</td>\n",
              "      <td>41</td>\n",
              "      <td>0</td>\n",
              "      <td>1</td>\n",
              "      <td>0</td>\n",
              "      <td>...</td>\n",
              "      <td>0</td>\n",
              "      <td>0</td>\n",
              "      <td>No</td>\n",
              "      <td>0</td>\n",
              "      <td>0</td>\n",
              "      <td>No</td>\n",
              "      <td>0</td>\n",
              "      <td>No</td>\n",
              "      <td>No</td>\n",
              "      <td>NO</td>\n",
              "    </tr>\n",
              "    <tr>\n",
              "      <th>1</th>\n",
              "      <td>55629189</td>\n",
              "      <td>Caucasian</td>\n",
              "      <td>1</td>\n",
              "      <td>15</td>\n",
              "      <td>3</td>\n",
              "      <td>other</td>\n",
              "      <td>59</td>\n",
              "      <td>0</td>\n",
              "      <td>18</td>\n",
              "      <td>0</td>\n",
              "      <td>...</td>\n",
              "      <td>0</td>\n",
              "      <td>0</td>\n",
              "      <td>No</td>\n",
              "      <td>0</td>\n",
              "      <td>0</td>\n",
              "      <td>Up</td>\n",
              "      <td>0</td>\n",
              "      <td>Ch</td>\n",
              "      <td>Yes</td>\n",
              "      <td>&gt;30</td>\n",
              "    </tr>\n",
              "    <tr>\n",
              "      <th>2</th>\n",
              "      <td>86047875</td>\n",
              "      <td>AfricanAmerican</td>\n",
              "      <td>1</td>\n",
              "      <td>25</td>\n",
              "      <td>2</td>\n",
              "      <td>other</td>\n",
              "      <td>11</td>\n",
              "      <td>5</td>\n",
              "      <td>13</td>\n",
              "      <td>2</td>\n",
              "      <td>...</td>\n",
              "      <td>1</td>\n",
              "      <td>0</td>\n",
              "      <td>No</td>\n",
              "      <td>0</td>\n",
              "      <td>0</td>\n",
              "      <td>No</td>\n",
              "      <td>0</td>\n",
              "      <td>No</td>\n",
              "      <td>Yes</td>\n",
              "      <td>NO</td>\n",
              "    </tr>\n",
              "    <tr>\n",
              "      <th>3</th>\n",
              "      <td>82442376</td>\n",
              "      <td>Caucasian</td>\n",
              "      <td>0</td>\n",
              "      <td>35</td>\n",
              "      <td>2</td>\n",
              "      <td>other</td>\n",
              "      <td>44</td>\n",
              "      <td>1</td>\n",
              "      <td>16</td>\n",
              "      <td>0</td>\n",
              "      <td>...</td>\n",
              "      <td>0</td>\n",
              "      <td>0</td>\n",
              "      <td>No</td>\n",
              "      <td>0</td>\n",
              "      <td>0</td>\n",
              "      <td>Up</td>\n",
              "      <td>0</td>\n",
              "      <td>Ch</td>\n",
              "      <td>Yes</td>\n",
              "      <td>NO</td>\n",
              "    </tr>\n",
              "    <tr>\n",
              "      <th>4</th>\n",
              "      <td>42519267</td>\n",
              "      <td>Caucasian</td>\n",
              "      <td>0</td>\n",
              "      <td>45</td>\n",
              "      <td>1</td>\n",
              "      <td>other</td>\n",
              "      <td>51</td>\n",
              "      <td>0</td>\n",
              "      <td>8</td>\n",
              "      <td>0</td>\n",
              "      <td>...</td>\n",
              "      <td>1</td>\n",
              "      <td>0</td>\n",
              "      <td>No</td>\n",
              "      <td>0</td>\n",
              "      <td>0</td>\n",
              "      <td>Steady</td>\n",
              "      <td>0</td>\n",
              "      <td>Ch</td>\n",
              "      <td>Yes</td>\n",
              "      <td>NO</td>\n",
              "    </tr>\n",
              "  </tbody>\n",
              "</table>\n",
              "<p>5 rows × 30 columns</p>\n",
              "</div>\n",
              "    <div class=\"colab-df-buttons\">\n",
              "\n",
              "  <div class=\"colab-df-container\">\n",
              "    <button class=\"colab-df-convert\" onclick=\"convertToInteractive('df-1804093b-0576-48af-9270-5fcc3956032d')\"\n",
              "            title=\"Convert this dataframe to an interactive table.\"\n",
              "            style=\"display:none;\">\n",
              "\n",
              "  <svg xmlns=\"http://www.w3.org/2000/svg\" height=\"24px\" viewBox=\"0 -960 960 960\">\n",
              "    <path d=\"M120-120v-720h720v720H120Zm60-500h600v-160H180v160Zm220 220h160v-160H400v160Zm0 220h160v-160H400v160ZM180-400h160v-160H180v160Zm440 0h160v-160H620v160ZM180-180h160v-160H180v160Zm440 0h160v-160H620v160Z\"/>\n",
              "  </svg>\n",
              "    </button>\n",
              "\n",
              "  <style>\n",
              "    .colab-df-container {\n",
              "      display:flex;\n",
              "      gap: 12px;\n",
              "    }\n",
              "\n",
              "    .colab-df-convert {\n",
              "      background-color: #E8F0FE;\n",
              "      border: none;\n",
              "      border-radius: 50%;\n",
              "      cursor: pointer;\n",
              "      display: none;\n",
              "      fill: #1967D2;\n",
              "      height: 32px;\n",
              "      padding: 0 0 0 0;\n",
              "      width: 32px;\n",
              "    }\n",
              "\n",
              "    .colab-df-convert:hover {\n",
              "      background-color: #E2EBFA;\n",
              "      box-shadow: 0px 1px 2px rgba(60, 64, 67, 0.3), 0px 1px 3px 1px rgba(60, 64, 67, 0.15);\n",
              "      fill: #174EA6;\n",
              "    }\n",
              "\n",
              "    .colab-df-buttons div {\n",
              "      margin-bottom: 4px;\n",
              "    }\n",
              "\n",
              "    [theme=dark] .colab-df-convert {\n",
              "      background-color: #3B4455;\n",
              "      fill: #D2E3FC;\n",
              "    }\n",
              "\n",
              "    [theme=dark] .colab-df-convert:hover {\n",
              "      background-color: #434B5C;\n",
              "      box-shadow: 0px 1px 3px 1px rgba(0, 0, 0, 0.15);\n",
              "      filter: drop-shadow(0px 1px 2px rgba(0, 0, 0, 0.3));\n",
              "      fill: #FFFFFF;\n",
              "    }\n",
              "  </style>\n",
              "\n",
              "    <script>\n",
              "      const buttonEl =\n",
              "        document.querySelector('#df-1804093b-0576-48af-9270-5fcc3956032d button.colab-df-convert');\n",
              "      buttonEl.style.display =\n",
              "        google.colab.kernel.accessAllowed ? 'block' : 'none';\n",
              "\n",
              "      async function convertToInteractive(key) {\n",
              "        const element = document.querySelector('#df-1804093b-0576-48af-9270-5fcc3956032d');\n",
              "        const dataTable =\n",
              "          await google.colab.kernel.invokeFunction('convertToInteractive',\n",
              "                                                    [key], {});\n",
              "        if (!dataTable) return;\n",
              "\n",
              "        const docLinkHtml = 'Like what you see? Visit the ' +\n",
              "          '<a target=\"_blank\" href=https://colab.research.google.com/notebooks/data_table.ipynb>data table notebook</a>'\n",
              "          + ' to learn more about interactive tables.';\n",
              "        element.innerHTML = '';\n",
              "        dataTable['output_type'] = 'display_data';\n",
              "        await google.colab.output.renderOutput(dataTable, element);\n",
              "        const docLink = document.createElement('div');\n",
              "        docLink.innerHTML = docLinkHtml;\n",
              "        element.appendChild(docLink);\n",
              "      }\n",
              "    </script>\n",
              "  </div>\n",
              "\n",
              "\n",
              "    <div id=\"df-8682b254-c488-4af1-8260-8c613cda2fb3\">\n",
              "      <button class=\"colab-df-quickchart\" onclick=\"quickchart('df-8682b254-c488-4af1-8260-8c613cda2fb3')\"\n",
              "                title=\"Suggest charts\"\n",
              "                style=\"display:none;\">\n",
              "\n",
              "<svg xmlns=\"http://www.w3.org/2000/svg\" height=\"24px\"viewBox=\"0 0 24 24\"\n",
              "     width=\"24px\">\n",
              "    <g>\n",
              "        <path d=\"M19 3H5c-1.1 0-2 .9-2 2v14c0 1.1.9 2 2 2h14c1.1 0 2-.9 2-2V5c0-1.1-.9-2-2-2zM9 17H7v-7h2v7zm4 0h-2V7h2v10zm4 0h-2v-4h2v4z\"/>\n",
              "    </g>\n",
              "</svg>\n",
              "      </button>\n",
              "\n",
              "<style>\n",
              "  .colab-df-quickchart {\n",
              "      --bg-color: #E8F0FE;\n",
              "      --fill-color: #1967D2;\n",
              "      --hover-bg-color: #E2EBFA;\n",
              "      --hover-fill-color: #174EA6;\n",
              "      --disabled-fill-color: #AAA;\n",
              "      --disabled-bg-color: #DDD;\n",
              "  }\n",
              "\n",
              "  [theme=dark] .colab-df-quickchart {\n",
              "      --bg-color: #3B4455;\n",
              "      --fill-color: #D2E3FC;\n",
              "      --hover-bg-color: #434B5C;\n",
              "      --hover-fill-color: #FFFFFF;\n",
              "      --disabled-bg-color: #3B4455;\n",
              "      --disabled-fill-color: #666;\n",
              "  }\n",
              "\n",
              "  .colab-df-quickchart {\n",
              "    background-color: var(--bg-color);\n",
              "    border: none;\n",
              "    border-radius: 50%;\n",
              "    cursor: pointer;\n",
              "    display: none;\n",
              "    fill: var(--fill-color);\n",
              "    height: 32px;\n",
              "    padding: 0;\n",
              "    width: 32px;\n",
              "  }\n",
              "\n",
              "  .colab-df-quickchart:hover {\n",
              "    background-color: var(--hover-bg-color);\n",
              "    box-shadow: 0 1px 2px rgba(60, 64, 67, 0.3), 0 1px 3px 1px rgba(60, 64, 67, 0.15);\n",
              "    fill: var(--button-hover-fill-color);\n",
              "  }\n",
              "\n",
              "  .colab-df-quickchart-complete:disabled,\n",
              "  .colab-df-quickchart-complete:disabled:hover {\n",
              "    background-color: var(--disabled-bg-color);\n",
              "    fill: var(--disabled-fill-color);\n",
              "    box-shadow: none;\n",
              "  }\n",
              "\n",
              "  .colab-df-spinner {\n",
              "    border: 2px solid var(--fill-color);\n",
              "    border-color: transparent;\n",
              "    border-bottom-color: var(--fill-color);\n",
              "    animation:\n",
              "      spin 1s steps(1) infinite;\n",
              "  }\n",
              "\n",
              "  @keyframes spin {\n",
              "    0% {\n",
              "      border-color: transparent;\n",
              "      border-bottom-color: var(--fill-color);\n",
              "      border-left-color: var(--fill-color);\n",
              "    }\n",
              "    20% {\n",
              "      border-color: transparent;\n",
              "      border-left-color: var(--fill-color);\n",
              "      border-top-color: var(--fill-color);\n",
              "    }\n",
              "    30% {\n",
              "      border-color: transparent;\n",
              "      border-left-color: var(--fill-color);\n",
              "      border-top-color: var(--fill-color);\n",
              "      border-right-color: var(--fill-color);\n",
              "    }\n",
              "    40% {\n",
              "      border-color: transparent;\n",
              "      border-right-color: var(--fill-color);\n",
              "      border-top-color: var(--fill-color);\n",
              "    }\n",
              "    60% {\n",
              "      border-color: transparent;\n",
              "      border-right-color: var(--fill-color);\n",
              "    }\n",
              "    80% {\n",
              "      border-color: transparent;\n",
              "      border-right-color: var(--fill-color);\n",
              "      border-bottom-color: var(--fill-color);\n",
              "    }\n",
              "    90% {\n",
              "      border-color: transparent;\n",
              "      border-bottom-color: var(--fill-color);\n",
              "    }\n",
              "  }\n",
              "</style>\n",
              "\n",
              "      <script>\n",
              "        async function quickchart(key) {\n",
              "          const quickchartButtonEl =\n",
              "            document.querySelector('#' + key + ' button');\n",
              "          quickchartButtonEl.disabled = true;  // To prevent multiple clicks.\n",
              "          quickchartButtonEl.classList.add('colab-df-spinner');\n",
              "          try {\n",
              "            const charts = await google.colab.kernel.invokeFunction(\n",
              "                'suggestCharts', [key], {});\n",
              "          } catch (error) {\n",
              "            console.error('Error during call to suggestCharts:', error);\n",
              "          }\n",
              "          quickchartButtonEl.classList.remove('colab-df-spinner');\n",
              "          quickchartButtonEl.classList.add('colab-df-quickchart-complete');\n",
              "        }\n",
              "        (() => {\n",
              "          let quickchartButtonEl =\n",
              "            document.querySelector('#df-8682b254-c488-4af1-8260-8c613cda2fb3 button');\n",
              "          quickchartButtonEl.style.display =\n",
              "            google.colab.kernel.accessAllowed ? 'block' : 'none';\n",
              "        })();\n",
              "      </script>\n",
              "    </div>\n",
              "\n",
              "    </div>\n",
              "  </div>\n"
            ],
            "application/vnd.google.colaboratory.intrinsic+json": {
              "type": "dataframe",
              "variable_name": "df"
            }
          },
          "metadata": {},
          "execution_count": 59
        }
      ],
      "source": [
        "## df = pd.read_csv('/content/diabetic_preprocessed_f.csv')\n",
        "df.head()"
      ]
    },
    {
      "cell_type": "code",
      "execution_count": null,
      "metadata": {
        "colab": {
          "base_uri": "https://localhost:8080/",
          "height": 1006
        },
        "id": "s2bpUni_57A_",
        "outputId": "1acdc6fb-ff7c-4ad1-e04c-988b37cce8a9"
      },
      "outputs": [
        {
          "output_type": "display_data",
          "data": {
            "text/plain": [
              "<Figure size 1400x1000 with 25 Axes>"
            ],
            "image/png": "[encoded data removed]"
          },
          "metadata": {}
        }
      ],
      "source": [
        "df.hist(bins=25, figsize=(14, 10))\n",
        "plt.tight_layout()\n",
        "plt.show()"
      ]
    },
    {
      "cell_type": "code",
      "execution_count": null,
      "metadata": {
        "colab": {
          "base_uri": "https://localhost:8080/"
        },
        "id": "y2rp8R2H6XTG",
        "outputId": "382da148-3d73-4e70-bcfb-fe311d589ce3"
      },
      "outputs": [
        {
          "output_type": "execute_result",
          "data": {
            "text/plain": [
              "Index(['patient_nbr', 'race', 'gender', 'age', 'time_in_hospital',\n",
              "       'medical_specialty', 'num_lab_procedures', 'num_procedures',\n",
              "       'num_medications', 'number_outpatient', 'number_emergency',\n",
              "       'number_inpatient', 'diag_1', 'number_diagnoses', 'max_glu_serum',\n",
              "       'A1Cresult', 'metformin', 'repaglinide', 'nateglinide', 'glimepiride',\n",
              "       'glipizide', 'glyburide', 'tolbutamide', 'pioglitazone',\n",
              "       'rosiglitazone', 'insulin', 'glyburide-metformin', 'change',\n",
              "       'diabetesMed', 'readmitted'],\n",
              "      dtype='object')"
            ]
          },
          "metadata": {},
          "execution_count": 61
        }
      ],
      "source": [
        "df.columns"
      ]
    },
    {
      "cell_type": "code",
      "execution_count": null,
      "metadata": {
        "colab": {
          "base_uri": "https://localhost:8080/",
          "height": 210
        },
        "id": "MxN26-_k6ROq",
        "outputId": "44b871a9-b6b4-48d6-86d0-c9a65f3bf2ea"
      },
      "outputs": [
        {
          "output_type": "execute_result",
          "data": {
            "text/plain": [
              "readmitted\n",
              "NO     53316\n",
              ">30    35007\n",
              "<30    11169\n",
              "Name: count, dtype: int64"
            ],
            "text/html": [
              "<div>\n",
              "<style scoped>\n",
              "    .dataframe tbody tr th:only-of-type {\n",
              "        vertical-align: middle;\n",
              "    }\n",
              "\n",
              "    .dataframe tbody tr th {\n",
              "        vertical-align: top;\n",
              "    }\n",
              "\n",
              "    .dataframe thead th {\n",
              "        text-align: right;\n",
              "    }\n",
              "</style>\n",
              "<table border=\"1\" class=\"dataframe\">\n",
              "  <thead>\n",
              "    <tr style=\"text-align: right;\">\n",
              "      <th></th>\n",
              "      <th>count</th>\n",
              "    </tr>\n",
              "    <tr>\n",
              "      <th>readmitted</th>\n",
              "      <th></th>\n",
              "    </tr>\n",
              "  </thead>\n",
              "  <tbody>\n",
              "    <tr>\n",
              "      <th>NO</th>\n",
              "      <td>53316</td>\n",
              "    </tr>\n",
              "    <tr>\n",
              "      <th>&gt;30</th>\n",
              "      <td>35007</td>\n",
              "    </tr>\n",
              "    <tr>\n",
              "      <th>&lt;30</th>\n",
              "      <td>11169</td>\n",
              "    </tr>\n",
              "  </tbody>\n",
              "</table>\n",
              "</div><br><label><b>dtype:</b> int64</label>"
            ]
          },
          "metadata": {},
          "execution_count": 62
        }
      ],
      "source": [
        "df.readmitted.value_counts()"
      ]
    },
    {
      "cell_type": "code",
      "execution_count": null,
      "metadata": {
        "id": "RLy_wSZp7RfL"
      },
      "outputs": [],
      "source": [
        "df['readmitted'] = df['readmitted'].apply(lambda x: 0 if x == 'NO' else 1 )"
      ]
    },
    {
      "cell_type": "markdown",
      "source": [
        "## Feature Transformation"
      ],
      "metadata": {
        "id": "O4KHRKcVW6xc"
      }
    },
    {
      "cell_type": "code",
      "execution_count": null,
      "metadata": {
        "id": "2MNsLdA972en"
      },
      "outputs": [],
      "source": [
        "# log transformation\n",
        "\n",
        "df['LOG_patient_nbr'] = np.log1p(df['patient_nbr'])"
      ]
    },
    {
      "cell_type": "code",
      "execution_count": null,
      "metadata": {
        "colab": {
          "base_uri": "https://localhost:8080/",
          "height": 450
        },
        "id": "d_InREKN7x7m",
        "outputId": "5cebd9d5-38c3-4223-de2f-9ff7692a3808"
      },
      "outputs": [
        {
          "output_type": "display_data",
          "data": {
            "text/plain": [
              "<Figure size 640x480 with 1 Axes>"
            ],
            "image/png": "[encoded data removed]"
          },
          "metadata": {}
        }
      ],
      "source": [
        "sns.histplot(data=df, x='LOG_patient_nbr', kde=False)\n",
        "plt.show()"
      ]
    },
    {
      "cell_type": "code",
      "execution_count": null,
      "metadata": {
        "id": "_9bYQ8rs8tbz"
      },
      "outputs": [],
      "source": [
        "df.drop(['patient_nbr'], axis=1, inplace=True)"
      ]
    },
    {
      "cell_type": "markdown",
      "source": [
        "# Data Checkpoint #2"
      ],
      "metadata": {
        "id": "qdMV66lOXFR0"
      }
    },
    {
      "cell_type": "code",
      "source": [
        "df.to_csv('diabetic_final_pre.csv', index=False)"
      ],
      "metadata": {
        "id": "rS5Un04f0xIo"
      },
      "execution_count": null,
      "outputs": []
    },
    {
      "cell_type": "code",
      "source": [
        "df = pd.read_csv('/content/diabetic_final_pre.csv')"
      ],
      "metadata": {
        "id": "ZWbHdUtAHkpY"
      },
      "execution_count": null,
      "outputs": []
    },
    {
      "cell_type": "markdown",
      "source": [
        "## Data Encoding and Scaling"
      ],
      "metadata": {
        "id": "_-DYH5Zvb84e"
      }
    },
    {
      "cell_type": "code",
      "execution_count": null,
      "metadata": {
        "id": "Oh42dy_682RL"
      },
      "outputs": [],
      "source": [
        "df_cat = df.select_dtypes(include=['object'])\n",
        "cat_cols= df_cat.columns"
      ]
    },
    {
      "cell_type": "code",
      "execution_count": null,
      "metadata": {
        "colab": {
          "base_uri": "https://localhost:8080/"
        },
        "id": "nLSPnCwT_d8d",
        "outputId": "8777d393-41f5-4f48-ccac-df094a73df76"
      },
      "outputs": [
        {
          "output_type": "stream",
          "name": "stdout",
          "text": [
            "['gender', 'age', 'time_in_hospital', 'num_lab_procedures', 'num_procedures', 'num_medications', 'number_outpatient', 'number_emergency', 'number_inpatient', 'number_diagnoses', 'max_glu_serum', 'A1Cresult', 'metformin', 'repaglinide', 'nateglinide', 'glimepiride', 'glipizide', 'glyburide', 'pioglitazone', 'rosiglitazone', 'glyburide-metformin', 'readmitted', 'LOG_patient_nbr']\n"
          ]
        }
      ],
      "source": [
        "num_cols = [col for col in df.columns if col not in df_cat.columns]\n",
        "print(num_cols)"
      ]
    },
    {
      "cell_type": "code",
      "execution_count": null,
      "metadata": {
        "id": "1eltyMIAAB2s"
      },
      "outputs": [],
      "source": [
        "df_num = df[num_cols]\n"
      ]
    },
    {
      "cell_type": "code",
      "execution_count": null,
      "metadata": {
        "colab": {
          "base_uri": "https://localhost:8080/",
          "height": 1007
        },
        "id": "IHcL1FwK_3li",
        "outputId": "3451d2f7-70a2-42cd-834b-fbcb8eeb15f6"
      },
      "outputs": [
        {
          "output_type": "display_data",
          "data": {
            "text/plain": [
              "<Figure size 1400x1000 with 25 Axes>"
            ],
            "image/png": "[encoded data removed]"
          },
          "metadata": {}
        }
      ],
      "source": [
        "df_num.hist(bins=25, figsize=(14, 10))\n",
        "plt.tight_layout()\n",
        "plt.show()"
      ]
    },
    {
      "cell_type": "code",
      "execution_count": null,
      "metadata": {
        "id": "TNit9PhUASxv"
      },
      "outputs": [],
      "source": [
        "num_cols = ['age', 'num_lab_procedures', 'num_procedures', 'num_medications', 'number_outpatient', 'number_emergency', 'number_inpatient', 'number_diagnoses', 'LOG_patient_nbr', 'time_in_hospital']\n",
        "#"
      ]
    },
    {
      "cell_type": "markdown",
      "source": [
        "# Model Comparison and Model Selection"
      ],
      "metadata": {
        "id": "j_g6iZtoemjb"
      }
    },
    {
      "cell_type": "code",
      "execution_count": null,
      "metadata": {
        "colab": {
          "base_uri": "https://localhost:8080/"
        },
        "id": "4PI1AjxqFwcf",
        "outputId": "94861876-280e-4e56-b362-e651106a0cd0"
      },
      "outputs": [
        {
          "output_type": "stream",
          "name": "stdout",
          "text": [
            "\n",
            "Logistic Regression:\n",
            "Accuracy: 0.6172\n",
            "Classification Report:\n",
            "              precision    recall  f1-score   support\n",
            "\n",
            "           0       0.61      0.80      0.69     13269\n",
            "           1       0.64      0.41      0.50     11604\n",
            "\n",
            "    accuracy                           0.62     24873\n",
            "   macro avg       0.62      0.60      0.60     24873\n",
            "weighted avg       0.62      0.62      0.60     24873\n",
            "\n",
            "\n",
            "Random Forest:\n",
            "Accuracy: 0.6272\n",
            "Classification Report:\n",
            "              precision    recall  f1-score   support\n",
            "\n",
            "           0       0.63      0.72      0.67     13269\n",
            "           1       0.62      0.52      0.57     11604\n",
            "\n",
            "    accuracy                           0.63     24873\n",
            "   macro avg       0.63      0.62      0.62     24873\n",
            "weighted avg       0.63      0.63      0.62     24873\n",
            "\n",
            "\n",
            "Gradient Boosting:\n",
            "Accuracy: 0.6333\n",
            "Classification Report:\n",
            "              precision    recall  f1-score   support\n",
            "\n",
            "           0       0.63      0.75      0.69     13269\n",
            "           1       0.64      0.50      0.56     11604\n",
            "\n",
            "    accuracy                           0.63     24873\n",
            "   macro avg       0.63      0.62      0.62     24873\n",
            "weighted avg       0.63      0.63      0.63     24873\n",
            "\n",
            "\n",
            "Best model: Gradient Boosting with accuracy 0.6333\n"
          ]
        }
      ],
      "source": [
        "# Step 1: Identify column types , Split data\n",
        "categorical_cols = cat_cols\n",
        "numeric_cols = num_cols\n",
        "X = df.drop('readmitted', axis=1)\n",
        "y = df['readmitted']\n",
        "X_train, X_test, y_train, y_test = train_test_split(X, y, test_size=0.25, random_state=42)\n",
        "\n",
        "\n",
        "# Step 2: Define preprocessing for each column type\n",
        "preprocessor = ColumnTransformer(\n",
        "    transformers=[\n",
        "        ('binary_encoder', BinaryEncoder(), categorical_cols),\n",
        "        ('robust_scaler', RobustScaler(quantile_range=(25, 75)), numeric_cols)\n",
        "    ],\n",
        "    remainder='passthrough'\n",
        ")\n",
        "\n",
        "\n",
        "#  Define multiple classifiers\n",
        "classifiers = {\n",
        "    'Logistic Regression': LogisticRegression(random_state=42),\n",
        "    'Random Forest': RandomForestClassifier(random_state=42),\n",
        "    'Gradient Boosting': GradientBoostingClassifier(random_state=42)\n",
        "}\n",
        "\n",
        "\n",
        "results = {}\n",
        "for name, classifier in classifiers.items():\n",
        "    # Create pipeline with current classifier\n",
        "    model_pipeline = Pipeline(steps=[\n",
        "        ('preprocessor', preprocessor),\n",
        "        ('classifier', classifier)\n",
        "    ])\n",
        "\n",
        "    # Fit pipeline on training data\n",
        "    model_pipeline.fit(X_train, y_train)\n",
        "\n",
        "    # Evaluate on test data\n",
        "    y_pred = model_pipeline.predict(X_test)\n",
        "    accuracy = accuracy_score(y_test, y_pred)\n",
        "\n",
        "    # Store results\n",
        "    results[name] = {\n",
        "        'pipeline': model_pipeline,\n",
        "        'accuracy': accuracy,\n",
        "        'report': classification_report(y_test, y_pred)\n",
        "    }\n",
        "\n",
        "    # Print results\n",
        "    print(f\"\\n{name}:\")\n",
        "    print(f\"Accuracy: {accuracy:.4f}\")\n",
        "    print(\"Classification Report:\")\n",
        "    print(results[name]['report'])\n",
        "\n",
        "# Find the best model\n",
        "best_model_name = max(results, key=lambda k: results[k]['accuracy'])\n",
        "print(f\"\\nBest model: {best_model_name} with accuracy {results[best_model_name]['accuracy']:.4f}\")\n"
      ]
    },
    {
      "cell_type": "markdown",
      "source": [
        "# Hyperparameter Tuning - Cross Validation"
      ],
      "metadata": {
        "id": "C5mMxDSW3gdB"
      }
    },
    {
      "cell_type": "code",
      "source": [
        "\n",
        "# Step 1: Identify column types, Split data (as in your original code)\n",
        "categorical_cols = cat_cols\n",
        "numeric_cols = num_cols\n",
        "X = df.drop('readmitted', axis=1)\n",
        "y = df['readmitted']\n",
        "X_train, X_test, y_train, y_test = train_test_split(X, y, test_size=0.25, random_state=42)\n",
        "\n",
        "# Step 2: Define preprocessing (same as your original code)\n",
        "preprocessor = ColumnTransformer(\n",
        "    transformers=[\n",
        "        ('binary_encoder', BinaryEncoder(), categorical_cols),\n",
        "        ('robust_scaler', RobustScaler(quantile_range=(25, 75)), numeric_cols)\n",
        "    ],\n",
        "    remainder='passthrough'\n",
        ")\n",
        "\n",
        "# Create pipeline with RandomForest\n",
        "rf_pipeline = Pipeline(steps=[\n",
        "    ('preprocessor', preprocessor),\n",
        "    ('classifier', RandomForestClassifier(random_state=42))\n",
        "])\n",
        "\n",
        "# Define parameter distributions for Random Forest\n",
        "param_distributions = {\n",
        "    'classifier__n_estimators': [150, 300],\n",
        "    'classifier__max_depth': [None, 10, 25],\n",
        "    'classifier__min_samples_split': [2, 7],\n",
        "    'classifier__min_samples_leaf': [2, 4],\n",
        "    'classifier__max_features': ['sqrt', 'log2', None],\n",
        "    'classifier__bootstrap': [True, False],\n",
        "    'classifier__class_weight': [None, 'balanced', 'balanced_subsample']\n",
        "}\n",
        "\n",
        "# Set up HalvingRandomSearchCV\n",
        "halving_search = HalvingRandomSearchCV(\n",
        "    estimator=rf_pipeline,\n",
        "    param_distributions=param_distributions,\n",
        "    factor=3,  # Each iteration uses 1/3 of the previous candidates\n",
        "    resource='n_samples',  # Allocate more samples to promising candidates\n",
        "    max_resources='auto',  # Use all samples\n",
        "    # min_resources='exhaust',  # Start with small number of samples\n",
        "    aggressive_elimination=False,  # Less aggressive elimination\n",
        "    cv=4,  # 5-fold cross-validation\n",
        "    scoring='accuracy',\n",
        "    n_candidates='exhaust',  # Evaluate all candidates in first iteration\n",
        "    random_state=42,\n",
        "    n_jobs=-1  # Use all available cores\n",
        ")\n",
        "\n",
        "# Fit the search\n",
        "halving_search.fit(X_train, y_train)\n",
        "\n",
        "# Get the best estimator\n",
        "best_rf_pipeline = halving_search.best_estimator_\n",
        "\n",
        "# Evaluate on test data\n",
        "y_pred = best_rf_pipeline.predict(X_test)\n",
        "accuracy = accuracy_score(y_test, y_pred)\n",
        "report = classification_report(y_test, y_pred)\n",
        "\n",
        "# Print results\n",
        "print(f\"\\nBest Random Forest after HalvingRandomSearchCV:\")\n",
        "print(f\"Best parameters: {halving_search.best_params_}\")\n",
        "print(f\"Accuracy: {accuracy:.4f}\")\n",
        "print(\"Classification Report:\")\n",
        "print(report)\n",
        "\n",
        "# You can also examine the search results\n",
        "print(\"\\nSearch results:\")\n",
        "print(f\"Number of iterations: {halving_search.n_iterations_}\")\n",
        "print(f\"Number of candidates evaluated: {len(halving_search.cv_results_['params'])}\")\n",
        "print(f\"Best cross-validation score: {halving_search.best_score_:.4f}\")"
      ],
      "metadata": {
        "colab": {
          "base_uri": "https://localhost:8080/"
        },
        "id": "i1NP1Dir6KOH",
        "outputId": "c092d72f-a277-4e40-e79a-66d88733e4bc"
      },
      "execution_count": null,
      "outputs": [
        {
          "output_type": "stream",
          "name": "stderr",
          "text": [
            "/usr/local/lib/python3.11/dist-packages/sklearn/model_selection/_search.py:317: UserWarning: The total space of parameters 432 is smaller than n_iter=4663. Running 432 iterations. For exhaustive searches, use GridSearchCV.\n",
            "  warnings.warn(\n"
          ]
        },
        {
          "output_type": "stream",
          "name": "stdout",
          "text": [
            "\n",
            "Best Random Forest after HalvingRandomSearchCV:\n",
            "Best parameters: {'classifier__n_estimators': 300, 'classifier__min_samples_split': 2, 'classifier__min_samples_leaf': 4, 'classifier__max_features': None, 'classifier__max_depth': 10, 'classifier__class_weight': None, 'classifier__bootstrap': False}\n",
            "Accuracy: 0.6178\n",
            "Classification Report:\n",
            "              precision    recall  f1-score   support\n",
            "\n",
            "           0       0.63      0.70      0.66     13269\n",
            "           1       0.60      0.53      0.56     11604\n",
            "\n",
            "    accuracy                           0.62     24873\n",
            "   macro avg       0.62      0.61      0.61     24873\n",
            "weighted avg       0.62      0.62      0.61     24873\n",
            "\n",
            "\n",
            "Search results:\n",
            "Number of iterations: 6\n",
            "Number of candidates evaluated: 648\n",
            "Best cross-validation score: 0.5678\n"
          ]
        }
      ]
    },
    {
      "cell_type": "markdown",
      "source": [
        "\n",
        "<font size=\"5\">We can conclude that the default hyperparameters values have better performance</font>"
      ],
      "metadata": {
        "id": "eqTGGOf7ks1J"
      }
    },
    {
      "cell_type": "markdown",
      "source": [
        "# Deployment"
      ],
      "metadata": {
        "id": "ucHI1hMR2t8y"
      }
    },
    {
      "cell_type": "code",
      "source": [
        "# Extract the preprocessor\n",
        "preprocessor = results[best_model_name]['pipeline'].named_steps['preprocessor']\n",
        "\n",
        "# Define and train the final Random Forest model with the preprocessor\n",
        "# retrain on the entire dataset (X, y) for the final model.\n",
        "final_model = Pipeline(steps=[\n",
        "    ('preprocessor', preprocessor),\n",
        "    ('classifier', RandomForestClassifier(random_state=42))  # Use the same parameters or tune as needed\n",
        "])\n",
        "final_model.fit(X, y)\n",
        "\n",
        "print(\"\\nFinal Random Forest Model Trained on Full Data.\")"
      ],
      "metadata": {
        "colab": {
          "base_uri": "https://localhost:8080/"
        },
        "id": "PYKgXDTjma5Z",
        "outputId": "f7546d5b-b2c3-44c6-e9df-242a1c9f69cd"
      },
      "execution_count": null,
      "outputs": [
        {
          "output_type": "stream",
          "name": "stdout",
          "text": [
            "\n",
            "Final Random Forest Model Trained on Full Data.\n"
          ]
        }
      ]
    },
    {
      "cell_type": "code",
      "source": [
        "joblib.dump(final_model, 'final_random_forest_model.joblib')\n",
        "print(\"Final model saved as 'final_random_forest_model.joblib'\")"
      ],
      "metadata": {
        "colab": {
          "base_uri": "https://localhost:8080/"
        },
        "id": "GUiC6k1B1kYg",
        "outputId": "a63004c9-1c0f-4703-d94d-2e26b20e0549"
      },
      "execution_count": null,
      "outputs": [
        {
          "output_type": "stream",
          "name": "stdout",
          "text": [
            "Final model saved as 'final_random_forest_model.joblib'\n"
          ]
        }
      ]
    },
    {
      "cell_type": "code",
      "source": [
        "deploy_pipeline = joblib.load('final_random_forest_model.joblib')\n",
        "\n",
        "print(\"Pipeline loaded successfully!\")"
      ],
      "metadata": {
        "colab": {
          "base_uri": "https://localhost:8080/"
        },
        "id": "it_Ufbsh14fK",
        "outputId": "dedd2223-1207-4201-d945-c2d990139a6b"
      },
      "execution_count": null,
      "outputs": [
        {
          "output_type": "stream",
          "name": "stdout",
          "text": [
            "Pipeline loaded successfully!\n"
          ]
        }
      ]
    },
    {
      "cell_type": "code",
      "source": [
        "predictions = deploy_pipeline.predict(X_test)"
      ],
      "metadata": {
        "id": "cWOK4LIw1_vX"
      },
      "execution_count": null,
      "outputs": []
    },
    {
      "cell_type": "code",
      "source": [
        "predictions.shape"
      ],
      "metadata": {
        "colab": {
          "base_uri": "https://localhost:8080/"
        },
        "id": "x3rlcQhU2JFv",
        "outputId": "13d06677-2894-404f-c8db-babbdba2d1f0"
      },
      "execution_count": null,
      "outputs": [
        {
          "output_type": "execute_result",
          "data": {
            "text/plain": [
              "(24873,)"
            ]
          },
          "metadata": {},
          "execution_count": 14
        }
      ]
    },
    {
      "cell_type": "code",
      "source": [
        "X_test.shape"
      ],
      "metadata": {
        "colab": {
          "base_uri": "https://localhost:8080/"
        },
        "id": "JCEgs55J2V2e",
        "outputId": "4751242b-5315-4a5d-abfc-88abfab7f631"
      },
      "execution_count": null,
      "outputs": [
        {
          "output_type": "execute_result",
          "data": {
            "text/plain": [
              "(24873, 29)"
            ]
          },
          "metadata": {},
          "execution_count": 15
        }
      ]
    },
    {
      "cell_type": "code",
      "source": [],
      "metadata": {
        "id": "okCR9_hw2bMW"
      },
      "execution_count": null,
      "outputs": []
    }
  ],
  "metadata": {
    "colab": {
      "provenance": [],
      "authorship_tag": "ABX9TyM0j0JKt1RNQidYEYr2c5rP",
      "include_colab_link": true
    },
    "kernelspec": {
      "display_name": "Python 3",
      "name": "python3"
    },
    "language_info": {
      "name": "python"
    }
  },
  "nbformat": 4,
  "nbformat_minor": 0
}